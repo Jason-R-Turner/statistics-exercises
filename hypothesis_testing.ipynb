{
 "cells": [
  {
   "cell_type": "markdown",
   "id": "f8275085-0be7-4d48-a2b2-140c48033434",
   "metadata": {},
   "source": [
    "# Hypothesis Testing"
   ]
  },
  {
   "cell_type": "markdown",
   "id": "1e98eb0e-c93e-43c5-9b4d-80b992f51d22",
   "metadata": {},
   "source": [
    "For each of the following questions, formulate a null and alternative hypothesis (be as specific as you can be), then give an example of what a true positive, true negative, type I and type II errors would look like. Note that some of the questions are intentionally phrased in a vague way. It is your job to reword these as more precise questions that could be tested.\n",
    "\n"
   ]
  },
  {
   "cell_type": "markdown",
   "id": "e2398af7-9195-4049-8d74-d1996ce320d3",
   "metadata": {},
   "source": [
    "### 3. Has the network latency gone up since we switched internet service providers?\n",
    "    - null hypothesis - Network latency did not go up after switching providers\n",
    "    - alternative hypothesis - Latency has gone up after switching providers\n",
    "    - true positive - The network latency increased after switching providers due to the new provider having fiber optic instead of DSL\n",
    "    - true negative - Network latency didn't increase after switching providers because the new provider's nearest server is much further away than your old provider's\n",
    "    - type I - Network latency increased but not actually due to switching providers but because they just replaced a faulty connection to your house without you knowing about it\n",
    "    - type II errors - Network latency didn't increase but it's not because we switched providers but because you decided to use your old wifi router instead of paying to rent one from the new internet service provider who you think is to blame"
   ]
  },
  {
   "cell_type": "markdown",
   "id": "44758e13-d36b-45d2-addd-14fb74500a92",
   "metadata": {},
   "source": [
    "Note: This would be deteremined via a paired t-test, in which we look at a sample of our data under the previous condition (old internet service provider), and then look at a sample of our data under the current dondition (new internet service provider). A paired t-test is used when we are interested in the difference between two variables for the same subject, and often the two variables are separated by time."
   ]
  },
  {
   "cell_type": "markdown",
   "id": "24b7c9d3-cc7b-4d8c-a6d1-5a5d1a325f12",
   "metadata": {},
   "source": [
    "### 2. Is the website redesign any good?\n",
    "    - null hypothesis - The website is not better after the redesign\n",
    "    - alternative hypothesis - The website is better after the redesign\n",
    "    - true positive - The website is highly correlated as being better due to the redesign because it loads and functions faster without the old spaghetti code\n",
    "    (You can not conclusively say that it's DUE TO THE WEBSITE REDESIGN)\n",
    "    - true negative - The website is not better after the redesign because it throws error codes rendering it unusable\n",
    "    - type I - The website is not better after the redesign but it actually is, you just think it looks better but it's slower and customers don't like the change\n",
    "    - type II errors - The website is actually not better after the redesign but it seems like it is"
   ]
  },
  {
   "cell_type": "markdown",
   "id": "874ab7c3-3d36-42ad-a4c5-2e72c33a2fb1",
   "metadata": {},
   "source": [
    "Note: Think about the number of confounding factors that might drive changes to a websites activity beyond a simple redesign.  If we are launching the new website the day before Black Friday, it is inappropriate to compare that to the previous day.  We would need to compare it to the last website on Black Friday.  Sometimes perfect comparisons are not achievable in the rapidly changing business world, but we must do our best to adequately control for as many factors as we can.  This could be achieved through A?B testing, where we run two versions of the website at the same time and look at..."
   ]
  },
  {
   "cell_type": "markdown",
   "id": "866cb0e5-1db5-4bfc-ade7-c7b8e4c5207b",
   "metadata": {},
   "source": [
    "### 3. Is our television ad driving more sales?\n",
    "\n",
    "    - null hypothesis - the tv ad is not driving more sales\n",
    "    - alternative hypothesis - more sales are being driven by the tv ad\n",
    "    - true positive - The tv ad is the reason why sales are being driven\n",
    "    - true negative - The tv ad is not helping with driving sales\n",
    "    - type I - The tv ad is not driving sales but it looks like it is\n",
    "    - type II errors - the tv ad is helping drive sales but it's actually not."
   ]
  },
  {
   "cell_type": "markdown",
   "id": "f95bec73-955c-4d01-840f-9dcd7704320e",
   "metadata": {},
   "source": [
    "# T-Test"
   ]
  },
  {
   "cell_type": "code",
   "execution_count": 1,
   "id": "d13ca4fe-289c-4e1e-b090-5fd9772a02f4",
   "metadata": {},
   "outputs": [],
   "source": [
    "import pandas as pd\n",
    "import matplotlib.pyplot as plt\n",
    "import scipy.stats as stats\n",
    "import seaborn as sns\n",
    "import env\n",
    "\n",
    "from pydataset import data\n",
    "mpg = data('mpg')\n"
   ]
  },
  {
   "cell_type": "markdown",
   "id": "aac46e9f-3421-4d44-914f-2e850b8f8bab",
   "metadata": {},
   "source": [
    "1. Ace Realty wants to determine whether the average time it takes to sell homes is different for its two offices. A sample of 40 sales from office #1 revealed a mean of 90 days and a standard deviation of 15 days. A sample of 50 sales from office #2 revealed a mean of 100 days and a standard deviation of 20 days. Use a .05 level of significance.\n",
    "\n",
    "What are we comparing?\n",
    "- average time(numeric continuous values) for two different groups (categories)\n",
    "- One sample or two sample?\n",
    "- One tailed or two tailed?\n",
    "\n",
    "Form a hypothesis:"
   ]
  },
  {
   "cell_type": "code",
   "execution_count": 2,
   "id": "1993b82f-8d8d-48b6-a7b6-3537abcdd70c",
   "metadata": {},
   "outputs": [],
   "source": [
    "# H_0: Average time to sell at office 1 == average time to sell at office 2\n",
    "# H_a: Average time to sell at office 1 != average time to sell at office 2\n"
   ]
  },
  {
   "cell_type": "code",
   "execution_count": 3,
   "id": "a55b17f7-802e-4356-b822-3017bf2b16b3",
   "metadata": {},
   "outputs": [],
   "source": [
    "alpha = 0.05"
   ]
  },
  {
   "cell_type": "code",
   "execution_count": 4,
   "id": "4299efcb-883c-4f90-a826-0d93b762faa4",
   "metadata": {},
   "outputs": [
    {
     "data": {
      "text/plain": [
       "(-2.7091418459143854, 0.00811206270346016)"
      ]
     },
     "execution_count": 4,
     "metadata": {},
     "output_type": "execute_result"
    }
   ],
   "source": [
    "t, p = stats.ttest_ind_from_stats(90, 15, 40, 100, 20, 50, equal_var=False)\n",
    "t, p"
   ]
  },
  {
   "cell_type": "code",
   "execution_count": 5,
   "id": "658548d3-1100-48fa-8278-0d84aa7fcb55",
   "metadata": {},
   "outputs": [
    {
     "name": "stdout",
     "output_type": "stream",
     "text": [
      "We reject the null hypothesis\n"
     ]
    }
   ],
   "source": [
    "if p < alpha:\n",
    "    print(\"We reject the null hypothesis\")\n",
    "else:\n",
    "    print(\"Fail to reject the null hypothesis\")\n"
   ]
  },
  {
   "cell_type": "markdown",
   "id": "23adcb5d-25cf-4525-b0d6-4a1afe35f02f",
   "metadata": {},
   "source": [
    "- Load the `mpg` dataset and use it to answer the following questions:\n"
   ]
  },
  {
   "cell_type": "code",
   "execution_count": 6,
   "id": "91f5d25f-706f-4c97-a870-e95ba1af6c17",
   "metadata": {},
   "outputs": [
    {
     "data": {
      "text/html": [
       "<div>\n",
       "<style scoped>\n",
       "    .dataframe tbody tr th:only-of-type {\n",
       "        vertical-align: middle;\n",
       "    }\n",
       "\n",
       "    .dataframe tbody tr th {\n",
       "        vertical-align: top;\n",
       "    }\n",
       "\n",
       "    .dataframe thead th {\n",
       "        text-align: right;\n",
       "    }\n",
       "</style>\n",
       "<table border=\"1\" class=\"dataframe\">\n",
       "  <thead>\n",
       "    <tr style=\"text-align: right;\">\n",
       "      <th></th>\n",
       "      <th>manufacturer</th>\n",
       "      <th>model</th>\n",
       "      <th>displ</th>\n",
       "      <th>year</th>\n",
       "      <th>cyl</th>\n",
       "      <th>trans</th>\n",
       "      <th>drv</th>\n",
       "      <th>cty</th>\n",
       "      <th>hwy</th>\n",
       "      <th>fl</th>\n",
       "      <th>class</th>\n",
       "    </tr>\n",
       "  </thead>\n",
       "  <tbody>\n",
       "    <tr>\n",
       "      <th>1</th>\n",
       "      <td>audi</td>\n",
       "      <td>a4</td>\n",
       "      <td>1.8</td>\n",
       "      <td>1999</td>\n",
       "      <td>4</td>\n",
       "      <td>auto(l5)</td>\n",
       "      <td>f</td>\n",
       "      <td>18</td>\n",
       "      <td>29</td>\n",
       "      <td>p</td>\n",
       "      <td>compact</td>\n",
       "    </tr>\n",
       "    <tr>\n",
       "      <th>2</th>\n",
       "      <td>audi</td>\n",
       "      <td>a4</td>\n",
       "      <td>1.8</td>\n",
       "      <td>1999</td>\n",
       "      <td>4</td>\n",
       "      <td>manual(m5)</td>\n",
       "      <td>f</td>\n",
       "      <td>21</td>\n",
       "      <td>29</td>\n",
       "      <td>p</td>\n",
       "      <td>compact</td>\n",
       "    </tr>\n",
       "    <tr>\n",
       "      <th>3</th>\n",
       "      <td>audi</td>\n",
       "      <td>a4</td>\n",
       "      <td>2.0</td>\n",
       "      <td>2008</td>\n",
       "      <td>4</td>\n",
       "      <td>manual(m6)</td>\n",
       "      <td>f</td>\n",
       "      <td>20</td>\n",
       "      <td>31</td>\n",
       "      <td>p</td>\n",
       "      <td>compact</td>\n",
       "    </tr>\n",
       "    <tr>\n",
       "      <th>4</th>\n",
       "      <td>audi</td>\n",
       "      <td>a4</td>\n",
       "      <td>2.0</td>\n",
       "      <td>2008</td>\n",
       "      <td>4</td>\n",
       "      <td>auto(av)</td>\n",
       "      <td>f</td>\n",
       "      <td>21</td>\n",
       "      <td>30</td>\n",
       "      <td>p</td>\n",
       "      <td>compact</td>\n",
       "    </tr>\n",
       "    <tr>\n",
       "      <th>5</th>\n",
       "      <td>audi</td>\n",
       "      <td>a4</td>\n",
       "      <td>2.8</td>\n",
       "      <td>1999</td>\n",
       "      <td>6</td>\n",
       "      <td>auto(l5)</td>\n",
       "      <td>f</td>\n",
       "      <td>16</td>\n",
       "      <td>26</td>\n",
       "      <td>p</td>\n",
       "      <td>compact</td>\n",
       "    </tr>\n",
       "    <tr>\n",
       "      <th>...</th>\n",
       "      <td>...</td>\n",
       "      <td>...</td>\n",
       "      <td>...</td>\n",
       "      <td>...</td>\n",
       "      <td>...</td>\n",
       "      <td>...</td>\n",
       "      <td>...</td>\n",
       "      <td>...</td>\n",
       "      <td>...</td>\n",
       "      <td>...</td>\n",
       "      <td>...</td>\n",
       "    </tr>\n",
       "    <tr>\n",
       "      <th>230</th>\n",
       "      <td>volkswagen</td>\n",
       "      <td>passat</td>\n",
       "      <td>2.0</td>\n",
       "      <td>2008</td>\n",
       "      <td>4</td>\n",
       "      <td>auto(s6)</td>\n",
       "      <td>f</td>\n",
       "      <td>19</td>\n",
       "      <td>28</td>\n",
       "      <td>p</td>\n",
       "      <td>midsize</td>\n",
       "    </tr>\n",
       "    <tr>\n",
       "      <th>231</th>\n",
       "      <td>volkswagen</td>\n",
       "      <td>passat</td>\n",
       "      <td>2.0</td>\n",
       "      <td>2008</td>\n",
       "      <td>4</td>\n",
       "      <td>manual(m6)</td>\n",
       "      <td>f</td>\n",
       "      <td>21</td>\n",
       "      <td>29</td>\n",
       "      <td>p</td>\n",
       "      <td>midsize</td>\n",
       "    </tr>\n",
       "    <tr>\n",
       "      <th>232</th>\n",
       "      <td>volkswagen</td>\n",
       "      <td>passat</td>\n",
       "      <td>2.8</td>\n",
       "      <td>1999</td>\n",
       "      <td>6</td>\n",
       "      <td>auto(l5)</td>\n",
       "      <td>f</td>\n",
       "      <td>16</td>\n",
       "      <td>26</td>\n",
       "      <td>p</td>\n",
       "      <td>midsize</td>\n",
       "    </tr>\n",
       "    <tr>\n",
       "      <th>233</th>\n",
       "      <td>volkswagen</td>\n",
       "      <td>passat</td>\n",
       "      <td>2.8</td>\n",
       "      <td>1999</td>\n",
       "      <td>6</td>\n",
       "      <td>manual(m5)</td>\n",
       "      <td>f</td>\n",
       "      <td>18</td>\n",
       "      <td>26</td>\n",
       "      <td>p</td>\n",
       "      <td>midsize</td>\n",
       "    </tr>\n",
       "    <tr>\n",
       "      <th>234</th>\n",
       "      <td>volkswagen</td>\n",
       "      <td>passat</td>\n",
       "      <td>3.6</td>\n",
       "      <td>2008</td>\n",
       "      <td>6</td>\n",
       "      <td>auto(s6)</td>\n",
       "      <td>f</td>\n",
       "      <td>17</td>\n",
       "      <td>26</td>\n",
       "      <td>p</td>\n",
       "      <td>midsize</td>\n",
       "    </tr>\n",
       "  </tbody>\n",
       "</table>\n",
       "<p>234 rows × 11 columns</p>\n",
       "</div>"
      ],
      "text/plain": [
       "    manufacturer   model  displ  year  cyl       trans drv  cty  hwy fl  \\\n",
       "1           audi      a4    1.8  1999    4    auto(l5)   f   18   29  p   \n",
       "2           audi      a4    1.8  1999    4  manual(m5)   f   21   29  p   \n",
       "3           audi      a4    2.0  2008    4  manual(m6)   f   20   31  p   \n",
       "4           audi      a4    2.0  2008    4    auto(av)   f   21   30  p   \n",
       "5           audi      a4    2.8  1999    6    auto(l5)   f   16   26  p   \n",
       "..           ...     ...    ...   ...  ...         ...  ..  ...  ... ..   \n",
       "230   volkswagen  passat    2.0  2008    4    auto(s6)   f   19   28  p   \n",
       "231   volkswagen  passat    2.0  2008    4  manual(m6)   f   21   29  p   \n",
       "232   volkswagen  passat    2.8  1999    6    auto(l5)   f   16   26  p   \n",
       "233   volkswagen  passat    2.8  1999    6  manual(m5)   f   18   26  p   \n",
       "234   volkswagen  passat    3.6  2008    6    auto(s6)   f   17   26  p   \n",
       "\n",
       "       class  \n",
       "1    compact  \n",
       "2    compact  \n",
       "3    compact  \n",
       "4    compact  \n",
       "5    compact  \n",
       "..       ...  \n",
       "230  midsize  \n",
       "231  midsize  \n",
       "232  midsize  \n",
       "233  midsize  \n",
       "234  midsize  \n",
       "\n",
       "[234 rows x 11 columns]"
      ]
     },
     "execution_count": 6,
     "metadata": {},
     "output_type": "execute_result"
    }
   ],
   "source": [
    "mpg"
   ]
  },
  {
   "cell_type": "markdown",
   "id": "df4ebc7b-7475-494f-b5a4-2a1cd8b680c9",
   "metadata": {},
   "source": [
    "**Hypothesis**\n",
    "\n",
    "- Is there a *difference* (two tailed) in fuel-efficiency in cars from 2008 vs 1999?\n",
    "    - $H_{0}$: There is no significant difference in total miles per gallon for cars from 2008 and 1999\n",
    "    - $H_{a}$: The total miles per gallon is significantly different for cars in 2008 vs 1999\n",
    "\n",
    "**Significance Level**\n",
    "\n",
    "$\\alpha$ = 0.05\n",
    "\n",
    "**Verify Assumptions**\n",
    "\n",
    "- Normal: \n",
    "- Independent: \n",
    "- Variance: "
   ]
  },
  {
   "cell_type": "code",
   "execution_count": 7,
   "id": "40772ae9-450e-4c2d-a055-a2652c8634e5",
   "metadata": {},
   "outputs": [],
   "source": [
    "alpha = .05"
   ]
  },
  {
   "cell_type": "code",
   "execution_count": 8,
   "id": "255302fc-f059-4301-ba1d-5484e9525bb5",
   "metadata": {},
   "outputs": [
    {
     "data": {
      "text/plain": [
       "array([[<AxesSubplot:title={'center':'displ'}>,\n",
       "        <AxesSubplot:title={'center':'year'}>],\n",
       "       [<AxesSubplot:title={'center':'cyl'}>,\n",
       "        <AxesSubplot:title={'center':'cty'}>],\n",
       "       [<AxesSubplot:title={'center':'hwy'}>, <AxesSubplot:>]],\n",
       "      dtype=object)"
      ]
     },
     "execution_count": 8,
     "metadata": {},
     "output_type": "execute_result"
    },
    {
     "data": {
      "image/png": "[encoded data removed]",
      "text/plain": [
       "<Figure size 432x288 with 6 Axes>"
      ]
     },
     "metadata": {
      "needs_background": "light"
     },
     "output_type": "display_data"
    }
   ],
   "source": [
    "mpg.hist()"
   ]
  },
  {
   "cell_type": "code",
   "execution_count": 9,
   "id": "a414972c-9bd2-4cc0-8d8d-d7c85aa1b7db",
   "metadata": {},
   "outputs": [],
   "source": [
    "mpg_2008_hwy = mpg[mpg.year == 2008].hwy\n",
    "mpg_1999_hwy = mpg[mpg.year == 1999].hwy"
   ]
  },
  {
   "cell_type": "code",
   "execution_count": 10,
   "id": "c85fbedd-a892-4749-a650-d5b2d187867f",
   "metadata": {},
   "outputs": [],
   "source": [
    "mpg_2008_cty = mpg[mpg.year == 2008].cty\n",
    "mpg_1999_cty = mpg[mpg.year == 1999].cty"
   ]
  },
  {
   "cell_type": "code",
   "execution_count": 11,
   "id": "ff36ab5d-3a15-4806-abe9-7ec8b80fdcae",
   "metadata": {},
   "outputs": [],
   "source": [
    "mpg_2008 = (mpg_2008_cty + mpg_2008_hwy)/2\n",
    "mpg_1999 = (mpg_1999_cty + mpg_1999_hwy)/2"
   ]
  },
  {
   "cell_type": "code",
   "execution_count": 12,
   "id": "1faa35a1-04fd-44a0-9e81-3db34c599607",
   "metadata": {},
   "outputs": [
    {
     "data": {
      "text/plain": [
       "<AxesSubplot:>"
      ]
     },
     "execution_count": 12,
     "metadata": {},
     "output_type": "execute_result"
    },
    {
     "data": {
      "image/png": "[encoded data removed]",
      "text/plain": [
       "<Figure size 432x288 with 1 Axes>"
      ]
     },
     "metadata": {
      "needs_background": "light"
     },
     "output_type": "display_data"
    }
   ],
   "source": [
    "mpg_2008.hist()"
   ]
  },
  {
   "cell_type": "code",
   "execution_count": 13,
   "id": "abf6c33c-78a9-458d-8098-4ff20f73ac3a",
   "metadata": {},
   "outputs": [
    {
     "data": {
      "text/plain": [
       "<AxesSubplot:>"
      ]
     },
     "execution_count": 13,
     "metadata": {},
     "output_type": "execute_result"
    },
    {
     "data": {
      "image/png": "[encoded data removed]",
      "text/plain": [
       "<Figure size 432x288 with 1 Axes>"
      ]
     },
     "metadata": {
      "needs_background": "light"
     },
     "output_type": "display_data"
    }
   ],
   "source": [
    " mpg_1999.hist()"
   ]
  },
  {
   "cell_type": "code",
   "execution_count": 14,
   "id": "bc7f51ed-6139-4b63-8953-f2037eee0fca",
   "metadata": {},
   "outputs": [
    {
     "data": {
      "text/plain": [
       "24.097480106100797"
      ]
     },
     "execution_count": 14,
     "metadata": {},
     "output_type": "execute_result"
    }
   ],
   "source": [
    "mpg_2008.var()"
   ]
  },
  {
   "cell_type": "code",
   "execution_count": 15,
   "id": "1f293c02-5217-40eb-862b-e6d1feebec93",
   "metadata": {},
   "outputs": [
    {
     "data": {
      "text/plain": [
       "27.122605363984682"
      ]
     },
     "execution_count": 15,
     "metadata": {},
     "output_type": "execute_result"
    }
   ],
   "source": [
    "mpg_1999.var()"
   ]
  },
  {
   "cell_type": "code",
   "execution_count": 16,
   "id": "eee7466a-13b6-494a-8d83-afaee797821f",
   "metadata": {},
   "outputs": [
    {
     "data": {
      "text/plain": [
       "(117, 117)"
      ]
     },
     "execution_count": 16,
     "metadata": {},
     "output_type": "execute_result"
    }
   ],
   "source": [
    "mpg_2008.count(), mpg_1999.count()"
   ]
  },
  {
   "cell_type": "code",
   "execution_count": 17,
   "id": "0d743398-06c7-4ccd-83f6-60ed46e88466",
   "metadata": {},
   "outputs": [
    {
     "data": {
      "text/plain": [
       "(-0.21960177245940962, 0.8263750772060638, 0.05)"
      ]
     },
     "execution_count": 17,
     "metadata": {},
     "output_type": "execute_result"
    }
   ],
   "source": [
    "t, p = stats.ttest_ind(mpg_2008, mpg_1999, equal_var= False)\n",
    "\n",
    "t, p, alpha"
   ]
  },
  {
   "cell_type": "markdown",
   "id": "fadfacae-fc37-48c1-9408-99119de7f57d",
   "metadata": {},
   "source": [
    "It doesn't appear to be a statistically signficant difference with a p-value of 0.8263"
   ]
  },
  {
   "cell_type": "markdown",
   "id": "918c8894-8af3-4501-9e44-f95531aff1c6",
   "metadata": {},
   "source": [
    "**Hypothesis**\n",
    "\n",
    "- Are compact cars *more* (One sample, one tailed test) fuel-efficient than the average car?\n",
    "    - $H_{0}$: The fuel-efficiency for compact cars <= mpg for the average car \n",
    "    - $H_{a}$: The fuel-efficiency for compact cars > mpg for the average car \n",
    "\n",
    "**Significance Level**\n",
    "\n",
    "$\\alpha$ = 0.05\n",
    "\n",
    "**Verify Assumptions**\n",
    "\n",
    "- Normal: \n",
    "- Independent: \n",
    "- Variance: "
   ]
  },
  {
   "cell_type": "code",
   "execution_count": 18,
   "id": "a5e7ef32-746d-4a1c-abf7-1cb180984319",
   "metadata": {},
   "outputs": [
    {
     "name": "stdout",
     "output_type": "stream",
     "text": [
      "<class 'pandas.core.frame.DataFrame'>\n",
      "Int64Index: 234 entries, 1 to 234\n",
      "Data columns (total 11 columns):\n",
      " #   Column        Non-Null Count  Dtype  \n",
      "---  ------        --------------  -----  \n",
      " 0   manufacturer  234 non-null    object \n",
      " 1   model         234 non-null    object \n",
      " 2   displ         234 non-null    float64\n",
      " 3   year          234 non-null    int64  \n",
      " 4   cyl           234 non-null    int64  \n",
      " 5   trans         234 non-null    object \n",
      " 6   drv           234 non-null    object \n",
      " 7   cty           234 non-null    int64  \n",
      " 8   hwy           234 non-null    int64  \n",
      " 9   fl            234 non-null    object \n",
      " 10  class         234 non-null    object \n",
      "dtypes: float64(1), int64(4), object(6)\n",
      "memory usage: 21.9+ KB\n"
     ]
    }
   ],
   "source": [
    "mpg.info()"
   ]
  },
  {
   "cell_type": "code",
   "execution_count": 19,
   "id": "bd1ac1af-d1bf-484b-b077-1553724eacd6",
   "metadata": {},
   "outputs": [
    {
     "data": {
      "text/html": [
       "<div>\n",
       "<style scoped>\n",
       "    .dataframe tbody tr th:only-of-type {\n",
       "        vertical-align: middle;\n",
       "    }\n",
       "\n",
       "    .dataframe tbody tr th {\n",
       "        vertical-align: top;\n",
       "    }\n",
       "\n",
       "    .dataframe thead th {\n",
       "        text-align: right;\n",
       "    }\n",
       "</style>\n",
       "<table border=\"1\" class=\"dataframe\">\n",
       "  <thead>\n",
       "    <tr style=\"text-align: right;\">\n",
       "      <th></th>\n",
       "      <th>manufacturer</th>\n",
       "      <th>model</th>\n",
       "      <th>displ</th>\n",
       "      <th>year</th>\n",
       "      <th>cyl</th>\n",
       "      <th>trans</th>\n",
       "      <th>drv</th>\n",
       "      <th>cty</th>\n",
       "      <th>hwy</th>\n",
       "      <th>fl</th>\n",
       "      <th>class</th>\n",
       "      <th>avg_mpg</th>\n",
       "    </tr>\n",
       "  </thead>\n",
       "  <tbody>\n",
       "    <tr>\n",
       "      <th>1</th>\n",
       "      <td>audi</td>\n",
       "      <td>a4</td>\n",
       "      <td>1.8</td>\n",
       "      <td>1999</td>\n",
       "      <td>4</td>\n",
       "      <td>auto(l5)</td>\n",
       "      <td>f</td>\n",
       "      <td>18</td>\n",
       "      <td>29</td>\n",
       "      <td>p</td>\n",
       "      <td>compact</td>\n",
       "      <td>23.5</td>\n",
       "    </tr>\n",
       "    <tr>\n",
       "      <th>2</th>\n",
       "      <td>audi</td>\n",
       "      <td>a4</td>\n",
       "      <td>1.8</td>\n",
       "      <td>1999</td>\n",
       "      <td>4</td>\n",
       "      <td>manual(m5)</td>\n",
       "      <td>f</td>\n",
       "      <td>21</td>\n",
       "      <td>29</td>\n",
       "      <td>p</td>\n",
       "      <td>compact</td>\n",
       "      <td>25.0</td>\n",
       "    </tr>\n",
       "    <tr>\n",
       "      <th>3</th>\n",
       "      <td>audi</td>\n",
       "      <td>a4</td>\n",
       "      <td>2.0</td>\n",
       "      <td>2008</td>\n",
       "      <td>4</td>\n",
       "      <td>manual(m6)</td>\n",
       "      <td>f</td>\n",
       "      <td>20</td>\n",
       "      <td>31</td>\n",
       "      <td>p</td>\n",
       "      <td>compact</td>\n",
       "      <td>25.5</td>\n",
       "    </tr>\n",
       "    <tr>\n",
       "      <th>4</th>\n",
       "      <td>audi</td>\n",
       "      <td>a4</td>\n",
       "      <td>2.0</td>\n",
       "      <td>2008</td>\n",
       "      <td>4</td>\n",
       "      <td>auto(av)</td>\n",
       "      <td>f</td>\n",
       "      <td>21</td>\n",
       "      <td>30</td>\n",
       "      <td>p</td>\n",
       "      <td>compact</td>\n",
       "      <td>25.5</td>\n",
       "    </tr>\n",
       "    <tr>\n",
       "      <th>5</th>\n",
       "      <td>audi</td>\n",
       "      <td>a4</td>\n",
       "      <td>2.8</td>\n",
       "      <td>1999</td>\n",
       "      <td>6</td>\n",
       "      <td>auto(l5)</td>\n",
       "      <td>f</td>\n",
       "      <td>16</td>\n",
       "      <td>26</td>\n",
       "      <td>p</td>\n",
       "      <td>compact</td>\n",
       "      <td>21.0</td>\n",
       "    </tr>\n",
       "  </tbody>\n",
       "</table>\n",
       "</div>"
      ],
      "text/plain": [
       "  manufacturer model  displ  year  cyl       trans drv  cty  hwy fl    class  \\\n",
       "1         audi    a4    1.8  1999    4    auto(l5)   f   18   29  p  compact   \n",
       "2         audi    a4    1.8  1999    4  manual(m5)   f   21   29  p  compact   \n",
       "3         audi    a4    2.0  2008    4  manual(m6)   f   20   31  p  compact   \n",
       "4         audi    a4    2.0  2008    4    auto(av)   f   21   30  p  compact   \n",
       "5         audi    a4    2.8  1999    6    auto(l5)   f   16   26  p  compact   \n",
       "\n",
       "   avg_mpg  \n",
       "1     23.5  \n",
       "2     25.0  \n",
       "3     25.5  \n",
       "4     25.5  \n",
       "5     21.0  "
      ]
     },
     "execution_count": 19,
     "metadata": {},
     "output_type": "execute_result"
    }
   ],
   "source": [
    "mpg['avg_mpg'] = (mpg.hwy + mpg.cty)/2\n",
    "mpg.head()"
   ]
  },
  {
   "cell_type": "code",
   "execution_count": 20,
   "id": "2f9fda51-4d4d-4023-be9d-c9ff5cb6ac27",
   "metadata": {},
   "outputs": [],
   "source": [
    "mpg.rename(columns= {'class': 'type'}, inplace=True)"
   ]
  },
  {
   "cell_type": "code",
   "execution_count": 21,
   "id": "dd74de9d-6a10-4bf0-a7a9-8fcd4c79bf3e",
   "metadata": {},
   "outputs": [
    {
     "data": {
      "text/html": [
       "<div>\n",
       "<style scoped>\n",
       "    .dataframe tbody tr th:only-of-type {\n",
       "        vertical-align: middle;\n",
       "    }\n",
       "\n",
       "    .dataframe tbody tr th {\n",
       "        vertical-align: top;\n",
       "    }\n",
       "\n",
       "    .dataframe thead th {\n",
       "        text-align: right;\n",
       "    }\n",
       "</style>\n",
       "<table border=\"1\" class=\"dataframe\">\n",
       "  <thead>\n",
       "    <tr style=\"text-align: right;\">\n",
       "      <th></th>\n",
       "      <th>manufacturer</th>\n",
       "      <th>model</th>\n",
       "      <th>displ</th>\n",
       "      <th>year</th>\n",
       "      <th>cyl</th>\n",
       "      <th>trans</th>\n",
       "      <th>drv</th>\n",
       "      <th>cty</th>\n",
       "      <th>hwy</th>\n",
       "      <th>fl</th>\n",
       "      <th>type</th>\n",
       "      <th>avg_mpg</th>\n",
       "    </tr>\n",
       "  </thead>\n",
       "  <tbody>\n",
       "    <tr>\n",
       "      <th>1</th>\n",
       "      <td>audi</td>\n",
       "      <td>a4</td>\n",
       "      <td>1.8</td>\n",
       "      <td>1999</td>\n",
       "      <td>4</td>\n",
       "      <td>auto(l5)</td>\n",
       "      <td>f</td>\n",
       "      <td>18</td>\n",
       "      <td>29</td>\n",
       "      <td>p</td>\n",
       "      <td>compact</td>\n",
       "      <td>23.5</td>\n",
       "    </tr>\n",
       "    <tr>\n",
       "      <th>2</th>\n",
       "      <td>audi</td>\n",
       "      <td>a4</td>\n",
       "      <td>1.8</td>\n",
       "      <td>1999</td>\n",
       "      <td>4</td>\n",
       "      <td>manual(m5)</td>\n",
       "      <td>f</td>\n",
       "      <td>21</td>\n",
       "      <td>29</td>\n",
       "      <td>p</td>\n",
       "      <td>compact</td>\n",
       "      <td>25.0</td>\n",
       "    </tr>\n",
       "    <tr>\n",
       "      <th>3</th>\n",
       "      <td>audi</td>\n",
       "      <td>a4</td>\n",
       "      <td>2.0</td>\n",
       "      <td>2008</td>\n",
       "      <td>4</td>\n",
       "      <td>manual(m6)</td>\n",
       "      <td>f</td>\n",
       "      <td>20</td>\n",
       "      <td>31</td>\n",
       "      <td>p</td>\n",
       "      <td>compact</td>\n",
       "      <td>25.5</td>\n",
       "    </tr>\n",
       "    <tr>\n",
       "      <th>4</th>\n",
       "      <td>audi</td>\n",
       "      <td>a4</td>\n",
       "      <td>2.0</td>\n",
       "      <td>2008</td>\n",
       "      <td>4</td>\n",
       "      <td>auto(av)</td>\n",
       "      <td>f</td>\n",
       "      <td>21</td>\n",
       "      <td>30</td>\n",
       "      <td>p</td>\n",
       "      <td>compact</td>\n",
       "      <td>25.5</td>\n",
       "    </tr>\n",
       "    <tr>\n",
       "      <th>5</th>\n",
       "      <td>audi</td>\n",
       "      <td>a4</td>\n",
       "      <td>2.8</td>\n",
       "      <td>1999</td>\n",
       "      <td>6</td>\n",
       "      <td>auto(l5)</td>\n",
       "      <td>f</td>\n",
       "      <td>16</td>\n",
       "      <td>26</td>\n",
       "      <td>p</td>\n",
       "      <td>compact</td>\n",
       "      <td>21.0</td>\n",
       "    </tr>\n",
       "  </tbody>\n",
       "</table>\n",
       "</div>"
      ],
      "text/plain": [
       "  manufacturer model  displ  year  cyl       trans drv  cty  hwy fl     type  \\\n",
       "1         audi    a4    1.8  1999    4    auto(l5)   f   18   29  p  compact   \n",
       "2         audi    a4    1.8  1999    4  manual(m5)   f   21   29  p  compact   \n",
       "3         audi    a4    2.0  2008    4  manual(m6)   f   20   31  p  compact   \n",
       "4         audi    a4    2.0  2008    4    auto(av)   f   21   30  p  compact   \n",
       "5         audi    a4    2.8  1999    6    auto(l5)   f   16   26  p  compact   \n",
       "\n",
       "   avg_mpg  \n",
       "1     23.5  \n",
       "2     25.0  \n",
       "3     25.5  \n",
       "4     25.5  \n",
       "5     21.0  "
      ]
     },
     "execution_count": 21,
     "metadata": {},
     "output_type": "execute_result"
    }
   ],
   "source": [
    "mpg.head()"
   ]
  },
  {
   "cell_type": "code",
   "execution_count": 22,
   "id": "ce6a1938-93fd-4dc3-b744-a3846c8af245",
   "metadata": {},
   "outputs": [],
   "source": [
    "mpg_compact = mpg[mpg.type == 'compact'].avg_mpg\n",
    "mpg_not_compact = mpg[mpg.type != 'compact'].avg_mpg"
   ]
  },
  {
   "cell_type": "code",
   "execution_count": 23,
   "id": "d1751dfb-0402-469a-bfe6-ee3feb5b8312",
   "metadata": {},
   "outputs": [
    {
     "data": {
      "text/plain": [
       "24.21276595744681"
      ]
     },
     "execution_count": 23,
     "metadata": {},
     "output_type": "execute_result"
    }
   ],
   "source": [
    "mpg_compact.mean()"
   ]
  },
  {
   "cell_type": "code",
   "execution_count": 24,
   "id": "43db10b0-3a62-43c6-a46d-4b2a410911e7",
   "metadata": {},
   "outputs": [
    {
     "data": {
      "text/plain": [
       "19.128342245989305"
      ]
     },
     "execution_count": 24,
     "metadata": {},
     "output_type": "execute_result"
    }
   ],
   "source": [
    "mpg_not_compact.mean()"
   ]
  },
  {
   "cell_type": "code",
   "execution_count": 25,
   "id": "fa349818-3c47-4bc1-858f-10eb8980dd40",
   "metadata": {},
   "outputs": [
    {
     "data": {
      "text/plain": [
       "<AxesSubplot:>"
      ]
     },
     "execution_count": 25,
     "metadata": {},
     "output_type": "execute_result"
    },
    {
     "data": {
      "image/png": "[encoded data removed]",
      "text/plain": [
       "<Figure size 432x288 with 1 Axes>"
      ]
     },
     "metadata": {
      "needs_background": "light"
     },
     "output_type": "display_data"
    }
   ],
   "source": [
    "mpg_compact.hist()"
   ]
  },
  {
   "cell_type": "code",
   "execution_count": 26,
   "id": "c02e4331-f49e-4b61-bb45-9d241a08b3a3",
   "metadata": {},
   "outputs": [
    {
     "data": {
      "text/plain": [
       "<AxesSubplot:>"
      ]
     },
     "execution_count": 26,
     "metadata": {},
     "output_type": "execute_result"
    },
    {
     "data": {
      "image/png": "[encoded data removed]",
      "text/plain": [
       "<Figure size 432x288 with 1 Axes>"
      ]
     },
     "metadata": {
      "needs_background": "light"
     },
     "output_type": "display_data"
    }
   ],
   "source": [
    "mpg_not_compact.hist()"
   ]
  },
  {
   "cell_type": "code",
   "execution_count": 27,
   "id": "9c099ef6-b2c6-4d05-8e05-4cf8d9d7d966",
   "metadata": {},
   "outputs": [
    {
     "data": {
      "text/plain": [
       "12.442876965772433"
      ]
     },
     "execution_count": 27,
     "metadata": {},
     "output_type": "execute_result"
    }
   ],
   "source": [
    "mpg_compact.var()"
   ]
  },
  {
   "cell_type": "code",
   "execution_count": 28,
   "id": "4b200c9c-046e-4434-bda2-f130be259263",
   "metadata": {},
   "outputs": [
    {
     "data": {
      "text/plain": [
       "23.652794548904602"
      ]
     },
     "execution_count": 28,
     "metadata": {},
     "output_type": "execute_result"
    }
   ],
   "source": [
    "mpg_not_compact.var()"
   ]
  },
  {
   "cell_type": "code",
   "execution_count": 29,
   "id": "77bf6835-86d9-48e6-a0dc-ca7666abb365",
   "metadata": {},
   "outputs": [
    {
     "data": {
      "text/plain": [
       "47"
      ]
     },
     "execution_count": 29,
     "metadata": {},
     "output_type": "execute_result"
    }
   ],
   "source": [
    "mpg_compact.count()"
   ]
  },
  {
   "cell_type": "code",
   "execution_count": 30,
   "id": "d6ac393f-3cd3-4be7-a626-b2f220d43061",
   "metadata": {},
   "outputs": [
    {
     "data": {
      "text/plain": [
       "187"
      ]
     },
     "execution_count": 30,
     "metadata": {},
     "output_type": "execute_result"
    }
   ],
   "source": [
    "mpg_not_compact.count()"
   ]
  },
  {
   "cell_type": "code",
   "execution_count": 31,
   "id": "31f44746-bb9e-419a-a2a3-e5e8e84dee8c",
   "metadata": {},
   "outputs": [
    {
     "data": {
      "text/plain": [
       "(8.128810422808078, 1.6018060656123074e-12, 0.05)"
      ]
     },
     "execution_count": 31,
     "metadata": {},
     "output_type": "execute_result"
    }
   ],
   "source": [
    "t, p = stats.ttest_ind(mpg_compact, mpg_not_compact, equal_var= False)\n",
    "\n",
    "t, p, alpha"
   ]
  },
  {
   "cell_type": "code",
   "execution_count": 32,
   "id": "c9ddc3b1-1e90-4d21-92c2-46b7a3de3bc2",
   "metadata": {},
   "outputs": [
    {
     "name": "stdout",
     "output_type": "stream",
     "text": [
      "Reject null\n"
     ]
    }
   ],
   "source": [
    "if (p/2 < alpha) and t > 0:\n",
    "    print('Reject null')"
   ]
  },
  {
   "cell_type": "markdown",
   "id": "4acc76a7-8724-4d20-8450-0556e630ead2",
   "metadata": {},
   "source": [
    "\n",
    "\n",
    "**Hypothesis**\n",
    "\n",
    "- Do manual cars get better gas mileage than automatic cars?\n",
    "    - $H_{0}$: Manual cars do not get better gas mileage than automatic cars\n",
    "    - $H_{a}$: Manual cars do get better gas mileage than automatic cars \n",
    "\n",
    "**Significance Level**\n",
    "\n",
    "$\\alpha$ = 0.05\n",
    "\n",
    "**Verify Assumptions**\n",
    "\n",
    "- Normal: \n",
    "- Independent: \n",
    "- Variance: "
   ]
  },
  {
   "cell_type": "code",
   "execution_count": 35,
   "id": "ae9aca7a-f035-49ae-bdca-004a25be795b",
   "metadata": {},
   "outputs": [],
   "source": [
    "mpg_auto = mpg[mpg.trans.str.contains('auto')].avg_mpg\n",
    "mpg_manual = mpg[mpg.trans.str.contains('manual')].avg_mpg\n"
   ]
  },
  {
   "cell_type": "code",
   "execution_count": 36,
   "id": "2d18c86f-61d2-4f0b-873c-db05e093f260",
   "metadata": {},
   "outputs": [
    {
     "data": {
      "text/plain": [
       "<AxesSubplot:>"
      ]
     },
     "execution_count": 36,
     "metadata": {},
     "output_type": "execute_result"
    },
    {
     "data": {
      "image/png": "[encoded data removed]",
      "text/plain": [
       "<Figure size 432x288 with 1 Axes>"
      ]
     },
     "metadata": {
      "needs_background": "light"
     },
     "output_type": "display_data"
    }
   ],
   "source": [
    "mpg_auto.hist()"
   ]
  },
  {
   "cell_type": "code",
   "execution_count": 38,
   "id": "af9701f3-6e09-442b-844d-63b4a042a04b",
   "metadata": {},
   "outputs": [
    {
     "data": {
      "text/plain": [
       "<AxesSubplot:>"
      ]
     },
     "execution_count": 38,
     "metadata": {},
     "output_type": "execute_result"
    },
    {
     "data": {
      "image/png": "[encoded data removed]",
      "text/plain": [
       "<Figure size 432x288 with 1 Axes>"
      ]
     },
     "metadata": {
      "needs_background": "light"
     },
     "output_type": "display_data"
    }
   ],
   "source": [
    "mpg_manual.hist()"
   ]
  },
  {
   "cell_type": "code",
   "execution_count": 39,
   "id": "73e600d9-62c8-4848-bffe-49e01a1638cb",
   "metadata": {},
   "outputs": [
    {
     "data": {
      "text/plain": [
       "(21.942777233382337, 26.635167464114826)"
      ]
     },
     "execution_count": 39,
     "metadata": {},
     "output_type": "execute_result"
    }
   ],
   "source": [
    "mpg_auto.var(), mpg_manual.var()"
   ]
  },
  {
   "cell_type": "code",
   "execution_count": 42,
   "id": "c1370cdc-c000-4391-be1c-6be9ecd8b94b",
   "metadata": {},
   "outputs": [
    {
     "data": {
      "text/plain": [
       "LeveneResult(statistic=0.20075824847529639, pvalue=0.6545276355131857)"
      ]
     },
     "execution_count": 42,
     "metadata": {},
     "output_type": "execute_result"
    }
   ],
   "source": [
    "stats.levene(mpg_auto, mpg_manual)"
   ]
  },
  {
   "cell_type": "code",
   "execution_count": 43,
   "id": "65f70e5f-7d9f-4a0a-96d9-2e04431436bb",
   "metadata": {},
   "outputs": [
    {
     "data": {
      "text/plain": [
       "(4.593437735750014, 3.5771872005728416e-06)"
      ]
     },
     "execution_count": 43,
     "metadata": {},
     "output_type": "execute_result"
    }
   ],
   "source": [
    "t, p = stats.ttest_ind(mpg_manual, mpg_auto, equal_var=True)\n",
    "t, p/2"
   ]
  },
  {
   "cell_type": "code",
   "execution_count": 44,
   "id": "9796ba97-5ead-491b-8ffa-edb2f66a6975",
   "metadata": {},
   "outputs": [
    {
     "data": {
      "text/plain": [
       "(22.227272727272727, 19.130573248407643)"
      ]
     },
     "execution_count": 44,
     "metadata": {},
     "output_type": "execute_result"
    }
   ],
   "source": [
    "mpg_manual.mean(), mpg_auto.mean()"
   ]
  },
  {
   "cell_type": "code",
   "execution_count": 34,
   "id": "14a362b3-1701-42a6-89bd-ac99d7755f8c",
   "metadata": {},
   "outputs": [
    {
     "ename": "ValueError",
     "evalue": "The truth value of a Series is ambiguous. Use a.empty, a.bool(), a.item(), a.any() or a.all().",
     "output_type": "error",
     "traceback": [
      "\u001b[0;31m---------------------------------------------------------------------------\u001b[0m",
      "\u001b[0;31mValueError\u001b[0m                                Traceback (most recent call last)",
      "\u001b[0;32m/var/folders/tg/c6tcjwk13mj583lxrf25k3jm0000gn/T/ipykernel_11344/3517951316.py\u001b[0m in \u001b[0;36m<module>\u001b[0;34m\u001b[0m\n\u001b[0;32m----> 1\u001b[0;31m \u001b[0mmpg_manual\u001b[0m \u001b[0;34m=\u001b[0m \u001b[0mmpg\u001b[0m\u001b[0;34m[\u001b[0m\u001b[0mmpg\u001b[0m\u001b[0;34m.\u001b[0m\u001b[0mtrans\u001b[0m \u001b[0;34m==\u001b[0m \u001b[0;34m'manual(m5)'\u001b[0m \u001b[0;32mor\u001b[0m \u001b[0mmpg\u001b[0m\u001b[0;34m.\u001b[0m\u001b[0mtrans\u001b[0m \u001b[0;34m==\u001b[0m \u001b[0;34m'manual(m6)'\u001b[0m\u001b[0;34m]\u001b[0m\u001b[0;34m.\u001b[0m\u001b[0mavg_mpg\u001b[0m\u001b[0;34m\u001b[0m\u001b[0;34m\u001b[0m\u001b[0m\n\u001b[0m\u001b[1;32m      2\u001b[0m \u001b[0mmpg_auto\u001b[0m \u001b[0;34m=\u001b[0m \u001b[0mmpg\u001b[0m\u001b[0;34m[\u001b[0m\u001b[0mmpg\u001b[0m\u001b[0;34m.\u001b[0m\u001b[0mtrans\u001b[0m \u001b[0;34m==\u001b[0m \u001b[0;34m'auto(l5)'\u001b[0m \u001b[0;32mor\u001b[0m \u001b[0mmpg\u001b[0m\u001b[0;34m.\u001b[0m\u001b[0mtrans\u001b[0m \u001b[0;34m==\u001b[0m \u001b[0;34m'auto(av)'\u001b[0m \u001b[0;32mor\u001b[0m \u001b[0mmpg\u001b[0m\u001b[0;34m.\u001b[0m\u001b[0mtrans\u001b[0m \u001b[0;34m==\u001b[0m \u001b[0;34m'auto(s6)'\u001b[0m \u001b[0;32mor\u001b[0m \u001b[0mmpg\u001b[0m\u001b[0;34m.\u001b[0m\u001b[0mtrans\u001b[0m \u001b[0;34m==\u001b[0m \u001b[0;34m'auto(l4)'\u001b[0m \u001b[0;32mor\u001b[0m \u001b[0mmpg\u001b[0m\u001b[0;34m.\u001b[0m\u001b[0mtrans\u001b[0m \u001b[0;34m==\u001b[0m \u001b[0;34m'auto(l3)'\u001b[0m \u001b[0;32mor\u001b[0m \u001b[0mmpg\u001b[0m\u001b[0;34m.\u001b[0m\u001b[0mtrans\u001b[0m \u001b[0;34m==\u001b[0m  \u001b[0;34m'auto(l6)'\u001b[0m \u001b[0;32mor\u001b[0m \u001b[0mmpg\u001b[0m\u001b[0;34m.\u001b[0m\u001b[0mtrans\u001b[0m \u001b[0;34m==\u001b[0m \u001b[0;34m'auto(s5)'\u001b[0m \u001b[0;32mor\u001b[0m \u001b[0mmpg\u001b[0m\u001b[0;34m.\u001b[0m\u001b[0mtrans\u001b[0m \u001b[0;34m==\u001b[0m \u001b[0;34m'auto(s4)'\u001b[0m\u001b[0;34m]\u001b[0m\u001b[0;34m.\u001b[0m\u001b[0mavg_mpg\u001b[0m\u001b[0;34m\u001b[0m\u001b[0;34m\u001b[0m\u001b[0m\n\u001b[1;32m      3\u001b[0m \u001b[0;34m\u001b[0m\u001b[0m\n",
      "\u001b[0;32m/opt/homebrew/anaconda3/lib/python3.9/site-packages/pandas/core/generic.py\u001b[0m in \u001b[0;36m__nonzero__\u001b[0;34m(self)\u001b[0m\n\u001b[1;32m   1535\u001b[0m     \u001b[0;34m@\u001b[0m\u001b[0mfinal\u001b[0m\u001b[0;34m\u001b[0m\u001b[0;34m\u001b[0m\u001b[0m\n\u001b[1;32m   1536\u001b[0m     \u001b[0;32mdef\u001b[0m \u001b[0m__nonzero__\u001b[0m\u001b[0;34m(\u001b[0m\u001b[0mself\u001b[0m\u001b[0;34m)\u001b[0m\u001b[0;34m:\u001b[0m\u001b[0;34m\u001b[0m\u001b[0;34m\u001b[0m\u001b[0m\n\u001b[0;32m-> 1537\u001b[0;31m         raise ValueError(\n\u001b[0m\u001b[1;32m   1538\u001b[0m             \u001b[0;34mf\"The truth value of a {type(self).__name__} is ambiguous. \"\u001b[0m\u001b[0;34m\u001b[0m\u001b[0;34m\u001b[0m\u001b[0m\n\u001b[1;32m   1539\u001b[0m             \u001b[0;34m\"Use a.empty, a.bool(), a.item(), a.any() or a.all().\"\u001b[0m\u001b[0;34m\u001b[0m\u001b[0;34m\u001b[0m\u001b[0m\n",
      "\u001b[0;31mValueError\u001b[0m: The truth value of a Series is ambiguous. Use a.empty, a.bool(), a.item(), a.any() or a.all()."
     ]
    }
   ],
   "source": [
    "mpg_manual = mpg[mpg.trans == 'manual(m5)' or mpg.trans == 'manual(m6)'].avg_mpg\n",
    "mpg_auto = mpg[mpg.trans == 'auto(l5)' or mpg.trans == 'auto(av)' or mpg.trans == 'auto(s6)' or mpg.trans == 'auto(l4)' or mpg.trans == 'auto(l3)' or mpg.trans ==  'auto(l6)' or mpg.trans == 'auto(s5)' or mpg.trans == 'auto(s4)'].avg_mpg\n",
    "\n"
   ]
  },
  {
   "cell_type": "code",
   "execution_count": null,
   "id": "ba679d31-bedc-483f-b827-22f0beb4bc9f",
   "metadata": {},
   "outputs": [],
   "source": [
    "mpg.trans.unique()"
   ]
  },
  {
   "cell_type": "code",
   "execution_count": null,
   "id": "fa084b62-23d4-4e01-a6ce-58fffe14a100",
   "metadata": {},
   "outputs": [],
   "source": [
    "\n",
    "mpg['trans'].str.contains('manual').any()\n",
    "mpg['trans'].str.contains('auto').any()"
   ]
  },
  {
   "cell_type": "code",
   "execution_count": null,
   "id": "76bcff66-de39-4693-953e-d814bc896c8a",
   "metadata": {},
   "outputs": [],
   "source": [
    "list(filter(lambda x: 'manual' in x,mpg.trans))"
   ]
  },
  {
   "cell_type": "code",
   "execution_count": null,
   "id": "d51a5bb3-9a4b-4ac7-9d22-936261941a14",
   "metadata": {},
   "outputs": [],
   "source": [
    "list(filter(lambda x: 'auto' in x,mpg.trans))"
   ]
  },
  {
   "cell_type": "code",
   "execution_count": null,
   "id": "5de185a9-f511-4116-99e9-068bc41f211e",
   "metadata": {},
   "outputs": [],
   "source": []
  },
  {
   "cell_type": "code",
   "execution_count": null,
   "id": "72a4c570-4af1-4d6c-8e0e-b449051a1457",
   "metadata": {},
   "outputs": [],
   "source": []
  },
  {
   "cell_type": "code",
   "execution_count": null,
   "id": "cedd517a-9973-491a-84f2-a77abe77de9a",
   "metadata": {},
   "outputs": [],
   "source": [
    "mpg_manual = (mpg_manual_cty + mpg_manual_hwy)/2\n",
    "mpg_auto = (mpg_auto_cty + mpg_auto_hwy)/2"
   ]
  },
  {
   "cell_type": "code",
   "execution_count": null,
   "id": "23f9fe92-6779-40a5-a29f-6a0afbd8a6c9",
   "metadata": {},
   "outputs": [],
   "source": [
    "mpg_manual.hist()"
   ]
  },
  {
   "cell_type": "code",
   "execution_count": null,
   "id": "4c7c24ad-7a27-4c3f-a368-a87841e25e34",
   "metadata": {},
   "outputs": [],
   "source": []
  }
 ],
 "metadata": {
  "kernelspec": {
   "display_name": "Python 3 (ipykernel)",
   "language": "python",
   "name": "python3"
  },
  "language_info": {
   "codemirror_mode": {
    "name": "ipython",
    "version": 3
   },
   "file_extension": ".py",
   "mimetype": "text/x-python",
   "name": "python",
   "nbconvert_exporter": "python",
   "pygments_lexer": "ipython3",
   "version": "3.9.7"
  }
 },
 "nbformat": 4,
 "nbformat_minor": 5
}
