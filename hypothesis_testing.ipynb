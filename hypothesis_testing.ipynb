{
 "cells": [
  {
   "cell_type": "markdown",
   "id": "f8275085-0be7-4d48-a2b2-140c48033434",
   "metadata": {},
   "source": [
    "# Hypothesis Testing"
   ]
  },
  {
   "cell_type": "markdown",
   "id": "1e98eb0e-c93e-43c5-9b4d-80b992f51d22",
   "metadata": {},
   "source": [
    "For each of the following questions, formulate a null and alternative hypothesis (be as specific as you can be), then give an example of what a true positive, true negative, type I and type II errors would look like. Note that some of the questions are intentionally phrased in a vague way. It is your job to reword these as more precise questions that could be tested.\n",
    "\n"
   ]
  },
  {
   "cell_type": "markdown",
   "id": "e2398af7-9195-4049-8d74-d1996ce320d3",
   "metadata": {},
   "source": [
    "### 3. Has the network latency gone up since we switched internet service providers?\n",
    "    - null hypothesis - Network latency did not go up after switching providers\n",
    "    - alternative hypothesis - Latency has gone up after switching providers\n",
    "    - true positive - The network latency increased after switching providers due to the new provider having fiber optic instead of DSL\n",
    "    - true negative - Network latency didn't increase after switching providers because the new provider's nearest server is much further away than your old provider's\n",
    "    - type I - Network latency increased but not actually due to switching providers but because they just replaced a faulty connection to your house without you knowing about it\n",
    "    - type II errors - Network latency didn't increase but it's not because we switched providers but because you decided to use your old wifi router instead of paying to rent one from the new internet service provider who you think is to blame"
   ]
  },
  {
   "cell_type": "markdown",
   "id": "44758e13-d36b-45d2-addd-14fb74500a92",
   "metadata": {},
   "source": [
    "Note: This would be deteremined via a paired t-test, in which we look at a sample of our data under the previous condition (old internet service provider), and then look at a sample of our data under the current dondition (new internet service provider). A paired t-test is used when we are interested in the difference between two variables for the same subject, and often the two variables are separated by time."
   ]
  },
  {
   "cell_type": "markdown",
   "id": "24b7c9d3-cc7b-4d8c-a6d1-5a5d1a325f12",
   "metadata": {},
   "source": [
    "### 2. Is the website redesign any good?\n",
    "    - null hypothesis - The website is not better after the redesign\n",
    "    - alternative hypothesis - The website is better after the redesign\n",
    "    - true positive - The website is highly correlated as being better due to the redesign because it loads and functions faster without the old spaghetti code\n",
    "    (You can not conclusively say that it's DUE TO THE WEBSITE REDESIGN)\n",
    "    - true negative - The website is not better after the redesign because it throws error codes rendering it unusable\n",
    "    - type I - The website is not better after the redesign but it actually is, you just think it looks better but it's slower and customers don't like the change\n",
    "    - type II errors - The website is actually not better after the redesign but it seems like it is"
   ]
  },
  {
   "cell_type": "markdown",
   "id": "874ab7c3-3d36-42ad-a4c5-2e72c33a2fb1",
   "metadata": {},
   "source": [
    "Note: Think about the number of confounding factors that might drive changes to a websites activity beyond a simple redesign.  If we are launching the new website the day before Black Friday, it is inappropriate to compare that to the previous day.  We would need to compare it to the last website on Black Friday.  Sometimes perfect comparisons are not achievable in the rapidly changing business world, but we must do our best to adequately control for as many factors as we can.  This could be achieved through A?B testing, where we run two versions of the website at the same time and look at..."
   ]
  },
  {
   "cell_type": "markdown",
   "id": "866cb0e5-1db5-4bfc-ade7-c7b8e4c5207b",
   "metadata": {},
   "source": [
    "### 3. Is our television ad driving more sales?\n",
    "\n",
    "    - null hypothesis - the tv ad is not driving more sales\n",
    "    - alternative hypothesis - more sales are being driven by the tv ad\n",
    "    - true positive - The tv ad is the reason why sales are being driven\n",
    "    - true negative - The tv ad is not helping with driving sales\n",
    "    - type I - The tv ad is not driving sales but it looks like it is\n",
    "    - type II errors - the tv ad is helping drive sales but it's actually not."
   ]
  },
  {
   "cell_type": "code",
   "execution_count": null,
   "id": "e4a8dcfe-8967-425e-8403-4de38a57af6c",
   "metadata": {},
   "outputs": [],
   "source": []
  }
 ],
 "metadata": {
  "kernelspec": {
   "display_name": "Python 3 (ipykernel)",
   "language": "python",
   "name": "python3"
  },
  "language_info": {
   "codemirror_mode": {
    "name": "ipython",
    "version": 3
   },
   "file_extension": ".py",
   "mimetype": "text/x-python",
   "name": "python",
   "nbconvert_exporter": "python",
   "pygments_lexer": "ipython3",
   "version": "3.9.7"
  }
 },
 "nbformat": 4,
 "nbformat_minor": 5
}
