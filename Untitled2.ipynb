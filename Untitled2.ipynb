{
 "cells": [
  {
   "cell_type": "code",
   "execution_count": null,
   "id": "3a1b433c-0e80-480f-a141-dac91421e6d8",
   "metadata": {},
   "outputs": [],
   "source": []
  },
  {
   "cell_type": "markdown",
   "id": "8d030f95-3f0a-4334-bb2b-e5645b1dd795",
   "metadata": {},
   "source": [
    "# Probability Distributions"
   ]
  },
  {
   "cell_type": "markdown",
   "id": "766ccfbe-6f16-4870-bdfe-1f1ffcf177d9",
   "metadata": {},
   "source": [
    "For the following problems, use python to simulate the problem and calculate an experimental probability, then compare that to the theoretical probability."
   ]
  },
  {
   "cell_type": "code",
   "execution_count": 1,
   "id": "69cb9107-8cf0-4b9a-bb0a-c321380894be",
   "metadata": {},
   "outputs": [],
   "source": [
    "import matplotlib.pyplot as plt\n",
    "import numpy as np\n",
    "from scipy import stats\n",
    "from scipy.stats import poisson\n",
    "\n",
    "# import viz # curriculum viz example code\n",
    "\n",
    "# np.random.seed(123)\n"
   ]
  },
  {
   "cell_type": "markdown",
   "id": "6dce2843-7163-4ce3-b8a6-4f2041793a6b",
   "metadata": {},
   "source": [
    "1. A bank found that the average number of cars waiting during the noon hour at a drive-up window follows a Poisson distribution with a mean of 2 cars. Make a chart of this distribution and answer these questions concerning the probability of cars waiting at the drive-up window."
   ]
  },
  {
   "cell_type": "code",
   "execution_count": 2,
   "id": "0d35564f-a439-4f36-adc5-1fceb7d5dd75",
   "metadata": {},
   "outputs": [],
   "source": [
    "# Review\n",
    "# does ƛ = 2? sigma and lambda symbols = \\sigma and \\lambda\n"
   ]
  },
  {
   "cell_type": "code",
   "execution_count": 3,
   "id": "63da199a-22de-4504-b5b8-2d21b20bd47a",
   "metadata": {},
   "outputs": [
    {
     "data": {
      "image/png": "[encoded data removed]",
      "text/plain": [
       "<Figure size 432x288 with 1 Axes>"
      ]
     },
     "metadata": {
      "needs_background": "light"
     },
     "output_type": "display_data"
    }
   ],
   "source": [
    "# creating a numpy array for x-axis\n",
    "x = np.arange(0, 12, 1)\n",
    " \n",
    "# poisson distribution data for y-axis\n",
    "y = poisson.pmf(x, mu=2, loc=0)\n",
    " \n",
    "# plotting the graph\n",
    "plt.bar(x, y)\n",
    " \n",
    "# showing the graph\n",
    "plt.show()\n",
    "\n",
    "## Label chart"
   ]
  },
  {
   "cell_type": "markdown",
   "id": "fe1c78e0-fe6c-42f2-9c80-af135ed27468",
   "metadata": {},
   "source": [
    "- What is the probability that no cars drive up in the noon hour?"
   ]
  },
  {
   "cell_type": "code",
   "execution_count": 4,
   "id": "75967e8c-e0d5-4412-90f7-add70ea58c66",
   "metadata": {},
   "outputs": [
    {
     "data": {
      "text/plain": [
       "0.1353"
      ]
     },
     "execution_count": 4,
     "metadata": {},
     "output_type": "execute_result"
    }
   ],
   "source": [
    "stats.poisson(2).cdf(0).round(4)"
   ]
  },
  {
   "cell_type": "code",
   "execution_count": null,
   "id": "278397eb-f2a5-4b9e-9ef1-30179bfbe36f",
   "metadata": {},
   "outputs": [],
   "source": [
    "survey = "
   ]
  },
  {
   "cell_type": "code",
   "execution_count": null,
   "id": "0925d6c3-50ff-456a-a3ce-b4f32cf23e77",
   "metadata": {},
   "outputs": [],
   "source": []
  },
  {
   "cell_type": "markdown",
   "id": "3b010b5f-e17e-4836-b55e-bf2dafb30e01",
   "metadata": {},
   "source": [
    "- What is the probability that 3 or more cars come through the drive through?"
   ]
  },
  {
   "cell_type": "code",
   "execution_count": 5,
   "id": "3b8b6afd-7a43-467b-964d-ac267d249be4",
   "metadata": {},
   "outputs": [
    {
     "data": {
      "text/plain": [
       "0.3233"
      ]
     },
     "execution_count": 5,
     "metadata": {},
     "output_type": "execute_result"
    }
   ],
   "source": [
    "stats.poisson(2).sf(2).round(4)"
   ]
  },
  {
   "cell_type": "markdown",
   "id": "a5af8841-56d0-4754-8cd6-165d5dbf3f38",
   "metadata": {},
   "source": [
    "- How likely is it that the drive through gets at least 1 car?"
   ]
  },
  {
   "cell_type": "code",
   "execution_count": 6,
   "id": "9ffedff8-d57d-4602-9581-93dc5e11ad9d",
   "metadata": {},
   "outputs": [
    {
     "data": {
      "text/plain": [
       "0.8647"
      ]
     },
     "execution_count": 6,
     "metadata": {},
     "output_type": "execute_result"
    }
   ],
   "source": [
    "stats.poisson(2).sf(0).round(4)"
   ]
  },
  {
   "cell_type": "markdown",
   "id": "601263ea-9913-48b4-8dfb-6ea282675cc5",
   "metadata": {},
   "source": [
    "2. Grades of State University graduates are normally distributed with a mean of 3.0 and a standard deviation of .3. Calculate the following:"
   ]
  },
  {
   "cell_type": "code",
   "execution_count": 7,
   "id": "878a30ff-778a-4e53-bb81-cbf81cb55f20",
   "metadata": {},
   "outputs": [],
   "source": [
    "μ = 3.0\n",
    "σ = .3\n",
    "\n",
    "gpa = stats.norm(μ, σ)"
   ]
  },
  {
   "cell_type": "code",
   "execution_count": 22,
   "id": "193a8737-4c0b-47c6-b60d-3537f327b6d9",
   "metadata": {},
   "outputs": [],
   "source": [
    "μ = 40\n",
    "σ = 15\n",
    "\n",
    "esquire = stats.norm(μ, σ)"
   ]
  },
  {
   "cell_type": "code",
   "execution_count": 24,
   "id": "8bf3250b-6241-4d4a-a977-194569e1fb48",
   "metadata": {},
   "outputs": [
    {
     "data": {
      "text/plain": [
       "50"
      ]
     },
     "execution_count": 24,
     "metadata": {},
     "output_type": "execute_result"
    }
   ],
   "source": [
    "60-10"
   ]
  },
  {
   "cell_type": "code",
   "execution_count": 26,
   "id": "b65ff431-d711-40f4-abbd-7d44190fb121",
   "metadata": {},
   "outputs": [
    {
     "data": {
      "text/plain": [
       "0.7475074624530771"
      ]
     },
     "execution_count": 26,
     "metadata": {},
     "output_type": "execute_result"
    }
   ],
   "source": [
    "late_lunch = esquire.cdf(50)\n",
    "late_lunch"
   ]
  },
  {
   "cell_type": "markdown",
   "id": "a139c6de-8168-4d73-bd8b-71cd0f6d8727",
   "metadata": {},
   "source": [
    "- What grade point average is required to be in the top 5% of the graduating class?"
   ]
  },
  {
   "cell_type": "code",
   "execution_count": 8,
   "id": "3f5195be-5b93-4bae-9da2-12cb4b27c112",
   "metadata": {},
   "outputs": [
    {
     "name": "stdout",
     "output_type": "stream",
     "text": [
      "3.49 GPA\n"
     ]
    }
   ],
   "source": [
    "\n",
    "top_5_percent_cutoff = gpa.ppf(.95)\n",
    "\n",
    "print('{:,.2f} GPA'.format(top_5_percent_cutoff))\n"
   ]
  },
  {
   "cell_type": "markdown",
   "id": "cc1e6ebd-e6f0-4547-b483-7a27e3edaab8",
   "metadata": {},
   "source": [
    "- What GPA constitutes the bottom 15% of the class?"
   ]
  },
  {
   "cell_type": "code",
   "execution_count": 9,
   "id": "16993425-8124-40e9-9f52-f1a3d679aa50",
   "metadata": {},
   "outputs": [
    {
     "name": "stdout",
     "output_type": "stream",
     "text": [
      "2.69 GPA\n"
     ]
    }
   ],
   "source": [
    "bottom_15_percent_cutoff = gpa.ppf(.15)\n",
    "\n",
    "print('{:,.2f} GPA'.format(bottom_15_percent_cutoff))"
   ]
  },
  {
   "cell_type": "markdown",
   "id": "b34e66d2-22ed-4ad4-ad36-0fd75c45fde1",
   "metadata": {},
   "source": [
    "- An eccentric alumnus left scholarship money for students in the third decile from the bottom of their class. Determine the range of the third decile. Would a student with a 2.8 grade point average qualify for this scholarship?"
   ]
  },
  {
   "cell_type": "code",
   "execution_count": 10,
   "id": "e4fda6dc-cd28-4df0-9115-f26658a0d4c0",
   "metadata": {},
   "outputs": [
    {
     "name": "stdout",
     "output_type": "stream",
     "text": [
      "3.16 GPA\n"
     ]
    }
   ],
   "source": [
    "third_decile = gpa.isf(.30)\n",
    "\n",
    "# deciles are not inclusive for their number like 1st decile would be 0 - 9.99...\n",
    "\n",
    "print('{:,.2f} GPA'.format(third_decile))\n",
    "\n",
    "# GPA for students in the third decile"
   ]
  },
  {
   "cell_type": "code",
   "execution_count": 11,
   "id": "21d33eb0-5c26-4dc7-849f-b7abd060b82b",
   "metadata": {},
   "outputs": [
    {
     "name": "stdout",
     "output_type": "stream",
     "text": [
      "2.52 decile\n"
     ]
    }
   ],
   "source": [
    "gpa_2pt_8 = gpa.cdf(2.8)\n",
    "\n",
    "print('{:,.2f} decile'.format(gpa_2pt_8*10))\n",
    "\n",
    "# Yes, a 2.8 gpa would be in the third decile being at 2.52 deciles"
   ]
  },
  {
   "cell_type": "markdown",
   "id": "726e101e-2fe0-4b71-8299-364c8ec538cb",
   "metadata": {},
   "source": [
    "- If I have a GPA of 3.5, what percentile am I in?"
   ]
  },
  {
   "cell_type": "code",
   "execution_count": 12,
   "id": "5b32dabe-0292-4e58-8b8f-a21686453ae2",
   "metadata": {},
   "outputs": [
    {
     "name": "stdout",
     "output_type": "stream",
     "text": [
      "95.22 percentile\n"
     ]
    }
   ],
   "source": [
    "gpa_3pt_5 = gpa.cdf(3.5)\n",
    "\n",
    "print('{:,.2f} percentile'.format(gpa_3pt_5*100))\n",
    "\n",
    "# 95.22 percentile if they have a 3.5 GPA"
   ]
  },
  {
   "cell_type": "markdown",
   "id": "b6cd4977-0d9b-451f-b8d0-d9d0fda27548",
   "metadata": {},
   "source": [
    "3. A marketing website has an average click-through rate of 2%. One day they observe 4326 visitors and 97 click-throughs. How likely is it that this many people or more click through?"
   ]
  },
  {
   "cell_type": "code",
   "execution_count": 13,
   "id": "b7e07dcf-2fa5-4eca-9452-ba8fb20bb556",
   "metadata": {},
   "outputs": [
    {
     "data": {
      "text/plain": [
       "0.022422561257512713"
      ]
     },
     "execution_count": 13,
     "metadata": {},
     "output_type": "execute_result"
    }
   ],
   "source": [
    "one_day = (97/4326)\n",
    "one_day"
   ]
  },
  {
   "cell_type": "code",
   "execution_count": 19,
   "id": "7c8a82c1-61dc-4335-9f7d-1ef328da39b2",
   "metadata": {},
   "outputs": [
    {
     "data": {
      "text/plain": [
       "0.11326860841423948"
      ]
     },
     "execution_count": 19,
     "metadata": {},
     "output_type": "execute_result"
    }
   ],
   "source": [
    "walgreens = (70/618)\n",
    "walgreens"
   ]
  },
  {
   "cell_type": "code",
   "execution_count": 14,
   "id": "98369ccc-275f-4e20-a1aa-c09b71252940",
   "metadata": {},
   "outputs": [
    {
     "name": "stdout",
     "output_type": "stream",
     "text": [
      "13.98 % chance\n"
     ]
    }
   ],
   "source": [
    "click_thru_pct = stats.binom(4326, .02).sf(96) # 4326 = n (number of trials), .02 = p (probability)\n",
    "\n",
    "print('{:,.2f} % chance'.format(click_thru_pct*100))\n",
    "\n",
    "# There's a 13.98% chance that 97 or more people click through out of 4326 visitors\n",
    "\n",
    "# try using poisson when n is > 100 and p is < 1%"
   ]
  },
  {
   "cell_type": "code",
   "execution_count": 21,
   "id": "fe090255-7ed0-4413-b4ba-7e0b9b063b13",
   "metadata": {},
   "outputs": [
    {
     "data": {
      "text/plain": [
       "0.12281969339878751"
      ]
     },
     "execution_count": 21,
     "metadata": {},
     "output_type": "execute_result"
    }
   ],
   "source": [
    "survey_pct = stats.binom(618, .1).sf(70)\n",
    "survey_pct"
   ]
  },
  {
   "cell_type": "code",
   "execution_count": 27,
   "id": "7304b52f-47b6-45c6-af08-15c1f5d3e07e",
   "metadata": {},
   "outputs": [
    {
     "data": {
      "text/plain": [
       "0.12281969339878751"
      ]
     },
     "execution_count": 27,
     "metadata": {},
     "output_type": "execute_result"
    }
   ],
   "source": [
    "new_survey = stats.binom(618, .1).cdf(70)\n",
    "1 - new_survey"
   ]
  },
  {
   "cell_type": "markdown",
   "id": "bd623af6-d68e-4f3e-bac0-48e82e91bcad",
   "metadata": {},
   "source": [
    "4. You are working on some statistics homework consisting of 100 questions where all of the answers are a probability rounded to the hundreths place. Looking to save time, you put down random probabilities as the answer to each question."
   ]
  },
  {
   "cell_type": "code",
   "execution_count": 15,
   "id": "6c2523d3-2089-451f-b6e5-c8bd7faa4095",
   "metadata": {},
   "outputs": [
    {
     "data": {
      "text/plain": [
       "0.6"
      ]
     },
     "execution_count": 15,
     "metadata": {},
     "output_type": "execute_result"
    }
   ],
   "source": [
    "(60/10_000)*100\n",
    "# I think this would be true for just one question right, not 1 or MORE out of 60 trials"
   ]
  },
  {
   "cell_type": "code",
   "execution_count": 16,
   "id": "0558f832-59b5-4f37-9e48-95ca92e03f6f",
   "metadata": {},
   "outputs": [
    {
     "data": {
      "text/plain": [
       "0.09561792499119552"
      ]
     },
     "execution_count": 16,
     "metadata": {},
     "output_type": "execute_result"
    }
   ],
   "source": [
    "n = 10\n",
    "p = 0.01\n",
    "stats.binom(n, p).sf(0)"
   ]
  },
  {
   "cell_type": "markdown",
   "id": "2e607651-a6cf-4dbc-98e8-a11666949fab",
   "metadata": {},
   "source": [
    "- What is the probability that at least one of your first 60 answers is correct?\n"
   ]
  },
  {
   "cell_type": "code",
   "execution_count": 17,
   "id": "89e4e581-bf1d-4873-afc0-0c1268a4249d",
   "metadata": {},
   "outputs": [
    {
     "name": "stdout",
     "output_type": "stream",
     "text": [
      "9.56 % chance\n"
     ]
    }
   ],
   "source": [
    "print('{:,.2f} % chance'.format(stats.binom(n, p).sf(0)*100))\n"
   ]
  },
  {
   "cell_type": "markdown",
   "id": "a61a8ce7-5fe8-4897-994f-58cebc85299c",
   "metadata": {},
   "source": [
    "5. The codeup staff tends to get upset when the student break area is not cleaned up. Suppose that there's a 3% chance that any one student cleans the break area when they visit it, and, on any given day, about 90% of the 3 active cohorts of 22 students visit the break area. How likely is it that the break area gets cleaned up each day? How likely is it that it goes two days without getting cleaned up? All week?\n",
    "\n"
   ]
  },
  {
   "cell_type": "code",
   "execution_count": 18,
   "id": "daa17d5d-25a7-4b68-a9cc-4c42f9602037",
   "metadata": {},
   "outputs": [
    {
     "ename": "NameError",
     "evalue": "name 'cohort1_with_22' is not defined",
     "output_type": "error",
     "traceback": [
      "\u001b[0;31m---------------------------------------------------------------------------\u001b[0m",
      "\u001b[0;31mNameError\u001b[0m                                 Traceback (most recent call last)",
      "\u001b[0;32m/var/folders/tg/c6tcjwk13mj583lxrf25k3jm0000gn/T/ipykernel_13117/1764925785.py\u001b[0m in \u001b[0;36m<module>\u001b[0;34m\u001b[0m\n\u001b[0;32m----> 1\u001b[0;31m \u001b[0mcohorts_x3\u001b[0m \u001b[0;34m=\u001b[0m \u001b[0;34m(\u001b[0m\u001b[0;34m(\u001b[0m\u001b[0mcohort1_with_22\u001b[0m \u001b[0;34m+\u001b[0m \u001b[0mcohort2_with_22\u001b[0m \u001b[0;34m+\u001b[0m \u001b[0mcohort3_with_22\u001b[0m\u001b[0;34m)\u001b[0m \u001b[0;34m*\u001b[0m \u001b[0;36m3\u001b[0m\u001b[0;34m)\u001b[0m\u001b[0;34m\u001b[0m\u001b[0;34m\u001b[0m\u001b[0m\n\u001b[0m\u001b[1;32m      2\u001b[0m \u001b[0;31m# average students on a given day\u001b[0m\u001b[0;34m\u001b[0m\u001b[0;34m\u001b[0m\u001b[0m\n\u001b[1;32m      3\u001b[0m \u001b[0msum\u001b[0m\u001b[0;34m(\u001b[0m\u001b[0mcohorts_x3\u001b[0m\u001b[0;34m)\u001b[0m\u001b[0;34m\u001b[0m\u001b[0;34m\u001b[0m\u001b[0m\n",
      "\u001b[0;31mNameError\u001b[0m: name 'cohort1_with_22' is not defined"
     ]
    }
   ],
   "source": [
    "cohorts_x3 = ((cohort1_with_22 + cohort2_with_22 + cohort3_with_22) * 3)\n",
    "# average students on a given day\n",
    "sum(cohorts_x3)"
   ]
  },
  {
   "cell_type": "code",
   "execution_count": null,
   "id": "1c8061a1-252f-40f2-94be-dbb041a96450",
   "metadata": {},
   "outputs": [],
   "source": [
    "cohorts_x3 * .03\n",
    "# average students who clean break room on a given day"
   ]
  },
  {
   "cell_type": "code",
   "execution_count": null,
   "id": "f972bbd8-e7a2-4343-926d-1b12477550b0",
   "metadata": {},
   "outputs": [],
   "source": [
    "# cleaned_up_pct = stats.binom(4326, .02).sf(96)\n",
    "\n",
    "N = (cohort1_with_22 )\n",
    "N"
   ]
  },
  {
   "cell_type": "code",
   "execution_count": null,
   "id": "9e9da7bc-468b-4520-a0e7-d25c62c90abc",
   "metadata": {},
   "outputs": [],
   "source": [
    "cohort1_with_22 = np.random.choice(2, 22, replace=True, p=[.1, .9])\n",
    "cohort2_with_22 = np.random.choice(2, 22, replace=True, p=[.1, .9])\n",
    "cohort3_with_22 = np.random.choice(2, 22, replace=True, p=[.1, .9])\n",
    "cohort1_with_22"
   ]
  },
  {
   "cell_type": "code",
   "execution_count": null,
   "id": "c69272dc-baef-4052-95f8-b3e29c15cd75",
   "metadata": {},
   "outputs": [],
   "source": []
  },
  {
   "cell_type": "markdown",
   "id": "5a189f13-6586-4342-8b7a-e303f9ae6b86",
   "metadata": {},
   "source": [
    "6. You want to get lunch at La Panaderia, but notice that the line is usually very long at lunchtime. After several weeks of careful observation, you notice that the average number of people in line when your lunch break starts is normally distributed with a mean of 15 and standard deviation of 3. If it takes 2 minutes for each person to order, and 10 minutes from ordering to getting your food, what is the likelihood that you have at least 15 minutes left to eat your food before you have to go back to class? Assume you have one hour for lunch, and ignore travel time to and from La Panaderia"
   ]
  },
  {
   "cell_type": "code",
   "execution_count": null,
   "id": "5f78992c-125c-48c2-a975-9f3619521122",
   "metadata": {},
   "outputs": [],
   "source": [
    "# Std_dev and variance will show the same area under the curve.  I think one reflects the chart in respect to people the in respect to time\n",
    "# When multiplying the. std_dev by a number with units it shouldn't change the end answer since it will be a percentage\n"
   ]
  },
  {
   "cell_type": "markdown",
   "id": "1fef2407-6c68-492f-88a3-4f6ed86a5f0e",
   "metadata": {},
   "source": [
    "7. Connect to the `employees` database and find the average salary of current employees, along with the standard deviation. For the following questions, calculate the answer based on modeling the employees salaries with a normal distribution defined by the calculated mean and standard deviation then compare this answer to the actual values present in the salaries dataset.\n",
    "\n"
   ]
  },
  {
   "cell_type": "code",
   "execution_count": null,
   "id": "83117d65-7f83-493a-841b-c5f2f6a15253",
   "metadata": {},
   "outputs": [],
   "source": []
  },
  {
   "cell_type": "code",
   "execution_count": null,
   "id": "28a3ff03-45ac-4549-bb9c-e7d20c5e7e33",
   "metadata": {},
   "outputs": [],
   "source": [
    "mean = salaries.salary.mean()\n",
    "std_dev = salaries.salary.std()\n",
    "mean, std_dev"
   ]
  },
  {
   "cell_type": "markdown",
   "id": "3b3b781f-20c5-47eb-b763-1a3172b256f8",
   "metadata": {},
   "source": [
    "- a. What percent of employees earn less than 60,000?\n"
   ]
  },
  {
   "cell_type": "code",
   "execution_count": null,
   "id": "8c19b0b7-60e0-45e3-a944-5228aa56ec3c",
   "metadata": {},
   "outputs": [],
   "source": []
  },
  {
   "cell_type": "markdown",
   "id": "85b3dc50-0110-4ac8-8c6c-dcb264f0a6ed",
   "metadata": {},
   "source": [
    "- b. What percent of employees earn more than 95,000?\n"
   ]
  },
  {
   "cell_type": "code",
   "execution_count": null,
   "id": "bb5f2c36-0bd1-470b-a458-18a2b619fb93",
   "metadata": {},
   "outputs": [],
   "source": []
  },
  {
   "cell_type": "markdown",
   "id": "81af0496-b1f8-49df-b43c-0c8ba60bba75",
   "metadata": {},
   "source": [
    "- c. What percent of employees earn between 65,000 and 80,000?\n"
   ]
  },
  {
   "cell_type": "code",
   "execution_count": null,
   "id": "00224302-132c-4aaf-a031-48942ccc036f",
   "metadata": {},
   "outputs": [],
   "source": []
  },
  {
   "cell_type": "markdown",
   "id": "24f81e11-9179-4ad6-8e06-a66714806a80",
   "metadata": {},
   "source": [
    "- d. What do the top 5% of employees make?\n"
   ]
  },
  {
   "cell_type": "code",
   "execution_count": null,
   "id": "a8b26904-0235-4c6c-a9d5-16f0ee83f0a9",
   "metadata": {},
   "outputs": [],
   "source": []
  },
  {
   "cell_type": "markdown",
   "id": "26dad05b-8e62-441f-9aa2-1369411c4f58",
   "metadata": {},
   "source": [
    "**Hint** If you're looking at this exercise and wondering \"How do I get pandas to talk the database, again?\", remember that you'll need 3 things: your `.gitignore`, your `env.py`, and to use `pd.read_sql`. Copy over your `.gitignore` and `env.py` from your data science libraries exercises folder, and connect to the employees database like so:\n",
    "\n"
   ]
  },
  {
   "cell_type": "code",
   "execution_count": null,
   "id": "552a0499-fb12-4ace-9f43-a70593a03868",
   "metadata": {},
   "outputs": [],
   "source": []
  }
 ],
 "metadata": {
  "kernelspec": {
   "display_name": "Python 3 (ipykernel)",
   "language": "python",
   "name": "python3"
  },
  "language_info": {
   "codemirror_mode": {
    "name": "ipython",
    "version": 3
   },
   "file_extension": ".py",
   "mimetype": "text/x-python",
   "name": "python",
   "nbconvert_exporter": "python",
   "pygments_lexer": "ipython3",
   "version": "3.9.7"
  }
 },
 "nbformat": 4,
 "nbformat_minor": 5
}
