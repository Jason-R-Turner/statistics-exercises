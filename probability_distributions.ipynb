{
 "cells": [
  {
   "cell_type": "markdown",
   "id": "067dd13b-2265-4add-85c7-96e8a945ca63",
   "metadata": {},
   "source": [
    "# Probability Distributions"
   ]
  },
  {
   "cell_type": "markdown",
   "id": "ddc3a035-6ce5-4fba-bf9f-74a03c5efb03",
   "metadata": {},
   "source": [
    "For the following problems, use python to simulate the problem and calculate an experimental probability, then compare that to the theoretical probability."
   ]
  },
  {
   "cell_type": "code",
   "execution_count": 1,
   "id": "713d776f-9f94-45e0-a59c-9e881f4f7ecc",
   "metadata": {},
   "outputs": [],
   "source": [
    "import matplotlib.pyplot as plt\n",
    "import numpy as np\n",
    "from scipy import stats\n",
    "from scipy.stats import poisson\n",
    "\n",
    "# import viz # curriculum viz example code\n",
    "\n",
    "# np.random.seed(123)\n"
   ]
  },
  {
   "cell_type": "markdown",
   "id": "0015a6b8-a6d3-4a3a-8bbb-e700eae0941c",
   "metadata": {},
   "source": [
    "1. A bank found that the average number of cars waiting during the noon hour at a drive-up window follows a Poisson distribution with a mean of 2 cars. Make a chart of this distribution and answer these questions concerning the probability of cars waiting at the drive-up window."
   ]
  },
  {
   "cell_type": "code",
   "execution_count": 2,
   "id": "56257014-0636-428e-95b2-396a5543ba60",
   "metadata": {},
   "outputs": [],
   "source": [
    "# Review\n",
    "# does ƛ = 2? sigma and lambda symbols = \\sigma and \\lambda\n"
   ]
  },
  {
   "cell_type": "code",
   "execution_count": 3,
   "id": "21141eba-c5cf-43df-b8d9-cc75a449951b",
   "metadata": {},
   "outputs": [
    {
     "data": {
      "image/png": "[encoded data removed]",
      "text/plain": [
       "<Figure size 432x288 with 1 Axes>"
      ]
     },
     "metadata": {
      "needs_background": "light"
     },
     "output_type": "display_data"
    }
   ],
   "source": [
    "# creating a numpy array for x-axis\n",
    "x = np.arange(0, 12, 1)\n",
    " \n",
    "# poisson distribution data for y-axis\n",
    "y = poisson.pmf(x, mu=2, loc=0)\n",
    " \n",
    "# plotting the graph\n",
    "plt.bar(x, y)\n",
    " \n",
    "# showing the graph\n",
    "plt.show()\n",
    "\n",
    "## Label chart"
   ]
  },
  {
   "cell_type": "markdown",
   "id": "7d0c8307-7e13-4747-9eaf-eb6ac8f8e475",
   "metadata": {},
   "source": [
    "- What is the probability that no cars drive up in the noon hour?"
   ]
  },
  {
   "cell_type": "code",
   "execution_count": 4,
   "id": "a86d054f-bd14-4695-8f8c-4201555c0e91",
   "metadata": {},
   "outputs": [
    {
     "data": {
      "text/plain": [
       "0.1353"
      ]
     },
     "execution_count": 4,
     "metadata": {},
     "output_type": "execute_result"
    }
   ],
   "source": [
    "stats.poisson(2).cdf(0).round(4)"
   ]
  },
  {
   "cell_type": "markdown",
   "id": "0fc46165-8733-4784-83ff-ffe83785d329",
   "metadata": {},
   "source": [
    "- What is the probability that 3 or more cars come through the drive through?"
   ]
  },
  {
   "cell_type": "code",
   "execution_count": 5,
   "id": "f4a146c4-0caa-419d-bda9-884542c5d5b3",
   "metadata": {},
   "outputs": [
    {
     "data": {
      "text/plain": [
       "0.3233"
      ]
     },
     "execution_count": 5,
     "metadata": {},
     "output_type": "execute_result"
    }
   ],
   "source": [
    "stats.poisson(2).sf(2).round(4)"
   ]
  },
  {
   "cell_type": "markdown",
   "id": "22b777ca-4a11-4ea2-a926-d9eef0630646",
   "metadata": {},
   "source": [
    "- How likely is it that the drive through gets at least 1 car?"
   ]
  },
  {
   "cell_type": "code",
   "execution_count": 6,
   "id": "c4cca1db-b81d-4b78-a57e-0791dcd3cbae",
   "metadata": {},
   "outputs": [
    {
     "data": {
      "text/plain": [
       "0.8647"
      ]
     },
     "execution_count": 6,
     "metadata": {},
     "output_type": "execute_result"
    }
   ],
   "source": [
    "stats.poisson(2).sf(0).round(4)"
   ]
  },
  {
   "cell_type": "markdown",
   "id": "0ee631db-5fc3-4d3b-b350-4211c881b4ad",
   "metadata": {},
   "source": [
    "2. Grades of State University graduates are normally distributed with a mean of 3.0 and a standard deviation of .3. Calculate the following:"
   ]
  },
  {
   "cell_type": "code",
   "execution_count": 7,
   "id": "2748d4f9-2954-4f04-a51f-3aead5dc8744",
   "metadata": {},
   "outputs": [],
   "source": [
    "μ = 3.0\n",
    "σ = .3\n",
    "\n",
    "gpa = stats.norm(μ, σ)"
   ]
  },
  {
   "cell_type": "markdown",
   "id": "7158da92-6d88-45aa-9725-4dd06feffcc1",
   "metadata": {},
   "source": [
    "- What grade point average is required to be in the top 5% of the graduating class?"
   ]
  },
  {
   "cell_type": "code",
   "execution_count": 8,
   "id": "686ed2c9-4b81-4dc7-ae09-f02fbe64617a",
   "metadata": {},
   "outputs": [
    {
     "name": "stdout",
     "output_type": "stream",
     "text": [
      "3.49 GPA\n"
     ]
    }
   ],
   "source": [
    "\n",
    "top_5_percent_cutoff = gpa.ppf(.95)\n",
    "\n",
    "print('{:,.2f} GPA'.format(top_5_percent_cutoff))\n"
   ]
  },
  {
   "cell_type": "markdown",
   "id": "1d88c189-9331-48fd-9dd2-0f7bc03f7b98",
   "metadata": {},
   "source": [
    "- What GPA constitutes the bottom 15% of the class?"
   ]
  },
  {
   "cell_type": "code",
   "execution_count": 9,
   "id": "665ca939-1a75-468f-afe0-058fcf025d40",
   "metadata": {},
   "outputs": [
    {
     "name": "stdout",
     "output_type": "stream",
     "text": [
      "2.69 GPA\n"
     ]
    }
   ],
   "source": [
    "bottom_15_percent_cutoff = gpa.ppf(.15)\n",
    "\n",
    "print('{:,.2f} GPA'.format(bottom_15_percent_cutoff))"
   ]
  },
  {
   "cell_type": "markdown",
   "id": "6debcb23-aad3-45eb-8e49-c56630c85d58",
   "metadata": {},
   "source": [
    "- An eccentric alumnus left scholarship money for students in the third decile from the bottom of their class. Determine the range of the third decile. Would a student with a 2.8 grade point average qualify for this scholarship?"
   ]
  },
  {
   "cell_type": "code",
   "execution_count": 10,
   "id": "423c0d69-3175-4e37-a4d3-6abc56dd2e70",
   "metadata": {},
   "outputs": [
    {
     "name": "stdout",
     "output_type": "stream",
     "text": [
      "3.16 GPA\n"
     ]
    }
   ],
   "source": [
    "third_decile = gpa.isf(.30)\n",
    "\n",
    "# deciles are not inclusive for their number like 1st decile would be 0 - 9.99...\n",
    "\n",
    "print('{:,.2f} GPA'.format(third_decile))\n",
    "\n",
    "# GPA for students in the third decile"
   ]
  },
  {
   "cell_type": "code",
   "execution_count": 11,
   "id": "6f8e4eb9-df26-49a3-b16f-99ae5192e31c",
   "metadata": {},
   "outputs": [
    {
     "name": "stdout",
     "output_type": "stream",
     "text": [
      "2.52 decile\n"
     ]
    }
   ],
   "source": [
    "gpa_2pt_8 = gpa.cdf(2.8)\n",
    "\n",
    "print('{:,.2f} decile'.format(gpa_2pt_8*10))\n",
    "\n",
    "# Yes, a 2.8 gpa would be in the third decile being at 2.52 deciles"
   ]
  },
  {
   "cell_type": "markdown",
   "id": "a2ad9205-7484-4461-9e2e-d839cd58f63f",
   "metadata": {},
   "source": [
    "- If I have a GPA of 3.5, what percentile am I in?"
   ]
  },
  {
   "cell_type": "code",
   "execution_count": 12,
   "id": "3a969ac5-2c15-4468-a7f5-a9e6485b32a4",
   "metadata": {},
   "outputs": [
    {
     "name": "stdout",
     "output_type": "stream",
     "text": [
      "95.22 percentile\n"
     ]
    }
   ],
   "source": [
    "gpa_3pt_5 = gpa.cdf(3.5)\n",
    "\n",
    "print('{:,.2f} percentile'.format(gpa_3pt_5*100))\n",
    "\n",
    "# 95.22 percentile if they have a 3.5 GPA"
   ]
  },
  {
   "cell_type": "markdown",
   "id": "9c5b13b1-d6a6-4b6e-a5d4-9fd6dada7352",
   "metadata": {},
   "source": [
    "3. A marketing website has an average click-through rate of 2%. One day they observe 4326 visitors and 97 click-throughs. How likely is it that this many people or more click through?"
   ]
  },
  {
   "cell_type": "code",
   "execution_count": 13,
   "id": "f7a98591-d612-4400-aa15-2ed6c909d41c",
   "metadata": {},
   "outputs": [
    {
     "data": {
      "text/plain": [
       "0.022422561257512713"
      ]
     },
     "execution_count": 13,
     "metadata": {},
     "output_type": "execute_result"
    }
   ],
   "source": [
    "one_day = (97/4326)\n",
    "one_day"
   ]
  },
  {
   "cell_type": "code",
   "execution_count": 14,
   "id": "6e0d2524-955e-458a-90ee-6034a7d7d4a8",
   "metadata": {},
   "outputs": [
    {
     "name": "stdout",
     "output_type": "stream",
     "text": [
      "13.98 % chance\n"
     ]
    }
   ],
   "source": [
    "click_thru_pct = stats.binom(4326, .02).sf(96) # 4326 = n (number of trials), .02 = p (probability)\n",
    "\n",
    "print('{:,.2f} % chance'.format(click_thru_pct*100))\n",
    "\n",
    "# There's a 13.98% chance that 97 or more people click through out of 4326 visitors\n",
    "\n",
    "# try using poisson when n is > 100 and p is < 1%"
   ]
  },
  {
   "cell_type": "markdown",
   "id": "e85da725-3e6c-4c1c-a4be-d080c1e43b29",
   "metadata": {},
   "source": [
    "4. You are working on some statistics homework consisting of 100 questions where all of the answers are a probability rounded to the hundreths place. Looking to save time, you put down random probabilities as the answer to each question."
   ]
  },
  {
   "cell_type": "code",
   "execution_count": 15,
   "id": "4e33b540-4eff-4a19-b73d-e23cb4bb8afb",
   "metadata": {},
   "outputs": [
    {
     "data": {
      "text/plain": [
       "0.6"
      ]
     },
     "execution_count": 15,
     "metadata": {},
     "output_type": "execute_result"
    }
   ],
   "source": [
    "(60/10_000)*100\n",
    "# I think this would be true for just one question right, not 1 or MORE out of 60 trials"
   ]
  },
  {
   "cell_type": "code",
   "execution_count": 16,
   "id": "6a1373ba-7129-4b53-a960-b4d0692f0e59",
   "metadata": {},
   "outputs": [
    {
     "data": {
      "text/plain": [
       "0.09561792499119552"
      ]
     },
     "execution_count": 16,
     "metadata": {},
     "output_type": "execute_result"
    }
   ],
   "source": [
    "n = 10\n",
    "p = 0.01\n",
    "stats.binom(n, p).sf(0)"
   ]
  },
  {
   "cell_type": "markdown",
   "id": "868c556f-a100-413f-9a88-fd0fd192d0ad",
   "metadata": {},
   "source": [
    "- What is the probability that at least one of your first 60 answers is correct?\n"
   ]
  },
  {
   "cell_type": "code",
   "execution_count": 17,
   "id": "f3b80438-d766-47be-af8d-aab62992764d",
   "metadata": {},
   "outputs": [
    {
     "name": "stdout",
     "output_type": "stream",
     "text": [
      "9.56 % chance\n"
     ]
    }
   ],
   "source": [
    "print('{:,.2f} % chance'.format(stats.binom(n, p).sf(0)*100))\n"
   ]
  },
  {
   "cell_type": "markdown",
   "id": "0dc494a1-b932-43ff-beb8-82e1765b371d",
   "metadata": {},
   "source": [
    "5. The codeup staff tends to get upset when the student break area is not cleaned up. Suppose that there's a 3% chance that any one student cleans the break area when they visit it, and, on any given day, about 90% of the 3 active cohorts of 22 students visit the break area. How likely is it that the break area gets cleaned up each day? How likely is it that it goes two days without getting cleaned up? All week?\n",
    "\n"
   ]
  },
  {
   "cell_type": "code",
   "execution_count": 18,
   "id": "17325bbd-401c-4317-ac00-3a3f5d3eb7b0",
   "metadata": {},
   "outputs": [
    {
     "ename": "NameError",
     "evalue": "name 'cohort1_with_22' is not defined",
     "output_type": "error",
     "traceback": [
      "\u001b[0;31m---------------------------------------------------------------------------\u001b[0m",
      "\u001b[0;31mNameError\u001b[0m                                 Traceback (most recent call last)",
      "\u001b[0;32m/var/folders/tg/c6tcjwk13mj583lxrf25k3jm0000gn/T/ipykernel_14246/1764925785.py\u001b[0m in \u001b[0;36m<module>\u001b[0;34m\u001b[0m\n\u001b[0;32m----> 1\u001b[0;31m \u001b[0mcohorts_x3\u001b[0m \u001b[0;34m=\u001b[0m \u001b[0;34m(\u001b[0m\u001b[0;34m(\u001b[0m\u001b[0mcohort1_with_22\u001b[0m \u001b[0;34m+\u001b[0m \u001b[0mcohort2_with_22\u001b[0m \u001b[0;34m+\u001b[0m \u001b[0mcohort3_with_22\u001b[0m\u001b[0;34m)\u001b[0m \u001b[0;34m*\u001b[0m \u001b[0;36m3\u001b[0m\u001b[0;34m)\u001b[0m\u001b[0;34m\u001b[0m\u001b[0;34m\u001b[0m\u001b[0m\n\u001b[0m\u001b[1;32m      2\u001b[0m \u001b[0;31m# average students on a given day\u001b[0m\u001b[0;34m\u001b[0m\u001b[0;34m\u001b[0m\u001b[0m\n\u001b[1;32m      3\u001b[0m \u001b[0msum\u001b[0m\u001b[0;34m(\u001b[0m\u001b[0mcohorts_x3\u001b[0m\u001b[0;34m)\u001b[0m\u001b[0;34m\u001b[0m\u001b[0;34m\u001b[0m\u001b[0m\n",
      "\u001b[0;31mNameError\u001b[0m: name 'cohort1_with_22' is not defined"
     ]
    }
   ],
   "source": [
    "cohorts_x3 = ((cohort1_with_22 + cohort2_with_22 + cohort3_with_22) * 3)\n",
    "# average students on a given day\n",
    "sum(cohorts_x3)"
   ]
  },
  {
   "cell_type": "code",
   "execution_count": null,
   "id": "f2a6f148-57d1-48c1-829e-c925232462f5",
   "metadata": {},
   "outputs": [],
   "source": [
    "cohorts_x3 * .03\n",
    "# average students who clean break room on a given day"
   ]
  },
  {
   "cell_type": "code",
   "execution_count": null,
   "id": "0341ea46-8051-4fd4-9786-1e1b0ea013a7",
   "metadata": {},
   "outputs": [],
   "source": [
    "# cleaned_up_pct = stats.binom(4326, .02).sf(96)\n",
    "\n",
    "N = (cohort1_with_22 )\n",
    "N"
   ]
  },
  {
   "cell_type": "code",
   "execution_count": null,
   "id": "920fb7a1-67eb-41f3-89a0-8c2439e7995d",
   "metadata": {},
   "outputs": [],
   "source": [
    "cohort1_with_22 = np.random.choice(2, 22, replace=True, p=[.1, .9])\n",
    "cohort2_with_22 = np.random.choice(2, 22, replace=True, p=[.1, .9])\n",
    "cohort3_with_22 = np.random.choice(2, 22, replace=True, p=[.1, .9])\n",
    "cohort1_with_22"
   ]
  },
  {
   "cell_type": "code",
   "execution_count": null,
   "id": "fc0a8809-2276-40fc-96a0-05f933d5d752",
   "metadata": {},
   "outputs": [],
   "source": []
  },
  {
   "cell_type": "markdown",
   "id": "8332729c-2675-45eb-a939-9757dc384d41",
   "metadata": {},
   "source": [
    "6. You want to get lunch at La Panaderia, but notice that the line is usually very long at lunchtime. After several weeks of careful observation, you notice that the average number of people in line when your lunch break starts is normally distributed with a mean of 15 and standard deviation of 3. If it takes 2 minutes for each person to order, and 10 minutes from ordering to getting your food, what is the likelihood that you have at least 15 minutes left to eat your food before you have to go back to class? Assume you have one hour for lunch, and ignore travel time to and from La Panaderia"
   ]
  },
  {
   "cell_type": "code",
   "execution_count": null,
   "id": "0898d5a6-12d4-455a-9cf9-895d9020745a",
   "metadata": {},
   "outputs": [],
   "source": [
    "# Std_dev and variance will show the same area under the curve.  I think one reflects the chart in respect to people the in respect to time\n",
    "# When multiplying the. std_dev by a number with units it shouldn't change the end answer since it will be a percentage\n"
   ]
  },
  {
   "cell_type": "code",
   "execution_count": 20,
   "id": "d1ba3b57-b37d-4ecd-a974-2e2499f2199e",
   "metadata": {},
   "outputs": [
    {
     "data": {
      "text/plain": [
       "<scipy.stats._distn_infrastructure.rv_frozen at 0x7f9931006df0>"
      ]
     },
     "execution_count": 20,
     "metadata": {},
     "output_type": "execute_result"
    }
   ],
   "source": [
    "μ = 15 * 2\n",
    "σ = 3 * 2\n",
    "\n",
    "panaderia = stats.norm(μ, σ)\n",
    "panaderia"
   ]
  },
  {
   "cell_type": "code",
   "execution_count": 21,
   "id": "50a9e38b-cbaf-4b2f-8f30-21235f4d7ac6",
   "metadata": {},
   "outputs": [
    {
     "data": {
      "text/plain": [
       "0.7976716190363569"
      ]
     },
     "execution_count": 21,
     "metadata": {},
     "output_type": "execute_result"
    }
   ],
   "source": [
    "late_lunch = panaderia.cdf(35)\n",
    "late_lunch"
   ]
  },
  {
   "cell_type": "markdown",
   "id": "8aee90b9-825a-45e1-8e5f-35427f771e5c",
   "metadata": {},
   "source": [
    "7. Connect to the `employees` database and find the average salary of current employees, along with the standard deviation. For the following questions, calculate the answer based on modeling the employees salaries with a normal distribution defined by the calculated mean and standard deviation then compare this answer to the actual values present in the salaries dataset.\n",
    "\n"
   ]
  },
  {
   "cell_type": "code",
   "execution_count": null,
   "id": "fff447bc-38b9-4887-836d-eba3991801f5",
   "metadata": {},
   "outputs": [],
   "source": []
  },
  {
   "cell_type": "code",
   "execution_count": null,
   "id": "5f0f6ec6-6d31-49d7-a3ed-5bd0856e7e27",
   "metadata": {},
   "outputs": [],
   "source": [
    "mean = salaries.salary.mean()\n",
    "std_dev = salaries.salary.std()\n",
    "mean, std_dev"
   ]
  },
  {
   "cell_type": "markdown",
   "id": "351cfb22-dca5-4941-be17-391263481fd4",
   "metadata": {},
   "source": [
    "- a. What percent of employees earn less than 60,000?\n"
   ]
  },
  {
   "cell_type": "code",
   "execution_count": null,
   "id": "63d1379a-9aac-49c5-bd96-cdcc52764920",
   "metadata": {},
   "outputs": [],
   "source": []
  },
  {
   "cell_type": "markdown",
   "id": "1a2d3599-05cf-438f-8ff9-c8735d1f44d0",
   "metadata": {},
   "source": [
    "- b. What percent of employees earn more than 95,000?\n"
   ]
  },
  {
   "cell_type": "code",
   "execution_count": null,
   "id": "28d35d19-7d7d-41bc-84c3-9257ce241684",
   "metadata": {},
   "outputs": [],
   "source": []
  },
  {
   "cell_type": "markdown",
   "id": "5bb18470-b051-49ae-a542-c36fdeb0710d",
   "metadata": {},
   "source": [
    "- c. What percent of employees earn between 65,000 and 80,000?\n"
   ]
  },
  {
   "cell_type": "code",
   "execution_count": null,
   "id": "94dc2659-a26d-4d13-a764-81b8d946927d",
   "metadata": {},
   "outputs": [],
   "source": []
  },
  {
   "cell_type": "markdown",
   "id": "0efc40e9-4087-4ae5-b9df-170be6c4cf58",
   "metadata": {},
   "source": [
    "- d. What do the top 5% of employees make?\n"
   ]
  },
  {
   "cell_type": "code",
   "execution_count": null,
   "id": "1e3ed375-ed66-4408-a192-1c30e7e26cbe",
   "metadata": {},
   "outputs": [],
   "source": []
  },
  {
   "cell_type": "markdown",
   "id": "425bd794-ed0d-4881-b66a-3570d65e1c99",
   "metadata": {},
   "source": [
    "**Hint** If you're looking at this exercise and wondering \"How do I get pandas to talk the database, again?\", remember that you'll need 3 things: your `.gitignore`, your `env.py`, and to use `pd.read_sql`. Copy over your `.gitignore` and `env.py` from your data science libraries exercises folder, and connect to the employees database like so:\n",
    "\n"
   ]
  },
  {
   "cell_type": "code",
   "execution_count": null,
   "id": "2cb5a632-600f-4a7c-8bb7-c67331c0bcee",
   "metadata": {},
   "outputs": [],
   "source": []
  }
 ],
 "metadata": {
  "kernelspec": {
   "display_name": "Python 3 (ipykernel)",
   "language": "python",
   "name": "python3"
  },
  "language_info": {
   "codemirror_mode": {
    "name": "ipython",
    "version": 3
   },
   "file_extension": ".py",
   "mimetype": "text/x-python",
   "name": "python",
   "nbconvert_exporter": "python",
   "pygments_lexer": "ipython3",
   "version": "3.9.7"
  }
 },
 "nbformat": 4,
 "nbformat_minor": 5
}
