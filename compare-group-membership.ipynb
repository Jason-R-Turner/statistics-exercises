{
 "cells": [
  {
   "cell_type": "markdown",
   "id": "80c7d6ab-d8c6-44c7-bba6-7b53e86c16b7",
   "metadata": {},
   "source": [
    "# Comparing Group Membership\n",
    "\n",
    "The $χ^2$\n",
    " test can be used to compare two categorical variables and helps us answer questions like:\n",
    "\n",
    "- Is whether or not a customer churns independent of their subscription plan?\n",
    "- Are doctors less likely to smoke?\n",
    "- Does playing on the home field give a soccer team an advantage?\n",
    "\n",
    "In this lesson we will dive into how the test is performed."
   ]
  },
  {
   "cell_type": "markdown",
   "id": "945885fd-20e3-4352-a8f6-1828c90496f9",
   "metadata": {},
   "source": [
    "## The $χ^2$ Contingency Table Test\n",
    "\n",
    "The $χ^2$ test can be also be used in several other ways, but we will use what is referred to as the contingency table test, which lets us test the hypothesis that one group is independent of another. To do this, we will\n",
    "\n",
    "1. Calculate the theoretical expected values\n",
    "2. Find the actual observed values\n",
    "3. Calculate a test-statistic and p-value based on the two tables above Specifically, our test-statistic, $χ^2$ is given by:\n",
    "$$χ^2=∑\\frac{(O−E)^2}{E}$$\n",
    "\n",
    "Where $O$ is the observed values, and $E$ is the expected values.\n",
    "\n",
    "For this example, we will look at the dataset on cars that we explored previously."
   ]
  },
  {
   "cell_type": "code",
   "execution_count": 1,
   "id": "cec0c156-ad5f-4f85-befb-7968e2f59194",
   "metadata": {},
   "outputs": [
    {
     "data": {
      "text/html": [
       "<div>\n",
       "<style scoped>\n",
       "    .dataframe tbody tr th:only-of-type {\n",
       "        vertical-align: middle;\n",
       "    }\n",
       "\n",
       "    .dataframe tbody tr th {\n",
       "        vertical-align: top;\n",
       "    }\n",
       "\n",
       "    .dataframe thead th {\n",
       "        text-align: right;\n",
       "    }\n",
       "</style>\n",
       "<table border=\"1\" class=\"dataframe\">\n",
       "  <thead>\n",
       "    <tr style=\"text-align: right;\">\n",
       "      <th></th>\n",
       "      <th>manufacturer</th>\n",
       "      <th>model</th>\n",
       "      <th>displ</th>\n",
       "      <th>year</th>\n",
       "      <th>cyl</th>\n",
       "      <th>trans</th>\n",
       "      <th>drv</th>\n",
       "      <th>cty</th>\n",
       "      <th>hwy</th>\n",
       "      <th>fl</th>\n",
       "      <th>class</th>\n",
       "      <th>transmission</th>\n",
       "    </tr>\n",
       "  </thead>\n",
       "  <tbody>\n",
       "    <tr>\n",
       "      <th>1</th>\n",
       "      <td>audi</td>\n",
       "      <td>a4</td>\n",
       "      <td>1.8</td>\n",
       "      <td>1999</td>\n",
       "      <td>4</td>\n",
       "      <td>auto(l5)</td>\n",
       "      <td>f</td>\n",
       "      <td>18</td>\n",
       "      <td>29</td>\n",
       "      <td>p</td>\n",
       "      <td>compact</td>\n",
       "      <td>auto</td>\n",
       "    </tr>\n",
       "    <tr>\n",
       "      <th>2</th>\n",
       "      <td>audi</td>\n",
       "      <td>a4</td>\n",
       "      <td>1.8</td>\n",
       "      <td>1999</td>\n",
       "      <td>4</td>\n",
       "      <td>manual(m5)</td>\n",
       "      <td>f</td>\n",
       "      <td>21</td>\n",
       "      <td>29</td>\n",
       "      <td>p</td>\n",
       "      <td>compact</td>\n",
       "      <td>manual</td>\n",
       "    </tr>\n",
       "    <tr>\n",
       "      <th>3</th>\n",
       "      <td>audi</td>\n",
       "      <td>a4</td>\n",
       "      <td>2.0</td>\n",
       "      <td>2008</td>\n",
       "      <td>4</td>\n",
       "      <td>manual(m6)</td>\n",
       "      <td>f</td>\n",
       "      <td>20</td>\n",
       "      <td>31</td>\n",
       "      <td>p</td>\n",
       "      <td>compact</td>\n",
       "      <td>manual</td>\n",
       "    </tr>\n",
       "    <tr>\n",
       "      <th>4</th>\n",
       "      <td>audi</td>\n",
       "      <td>a4</td>\n",
       "      <td>2.0</td>\n",
       "      <td>2008</td>\n",
       "      <td>4</td>\n",
       "      <td>auto(av)</td>\n",
       "      <td>f</td>\n",
       "      <td>21</td>\n",
       "      <td>30</td>\n",
       "      <td>p</td>\n",
       "      <td>compact</td>\n",
       "      <td>auto</td>\n",
       "    </tr>\n",
       "    <tr>\n",
       "      <th>5</th>\n",
       "      <td>audi</td>\n",
       "      <td>a4</td>\n",
       "      <td>2.8</td>\n",
       "      <td>1999</td>\n",
       "      <td>6</td>\n",
       "      <td>auto(l5)</td>\n",
       "      <td>f</td>\n",
       "      <td>16</td>\n",
       "      <td>26</td>\n",
       "      <td>p</td>\n",
       "      <td>compact</td>\n",
       "      <td>auto</td>\n",
       "    </tr>\n",
       "  </tbody>\n",
       "</table>\n",
       "</div>"
      ],
      "text/plain": [
       "  manufacturer model  displ  year  cyl       trans drv  cty  hwy fl    class  \\\n",
       "1         audi    a4    1.8  1999    4    auto(l5)   f   18   29  p  compact   \n",
       "2         audi    a4    1.8  1999    4  manual(m5)   f   21   29  p  compact   \n",
       "3         audi    a4    2.0  2008    4  manual(m6)   f   20   31  p  compact   \n",
       "4         audi    a4    2.0  2008    4    auto(av)   f   21   30  p  compact   \n",
       "5         audi    a4    2.8  1999    6    auto(l5)   f   16   26  p  compact   \n",
       "\n",
       "  transmission  \n",
       "1         auto  \n",
       "2       manual  \n",
       "3       manual  \n",
       "4         auto  \n",
       "5         auto  "
      ]
     },
     "execution_count": 1,
     "metadata": {},
     "output_type": "execute_result"
    }
   ],
   "source": [
    "import pandas as pd\n",
    "from scipy import stats\n",
    "from pydataset import data\n",
    "\n",
    "mpg = data('mpg')\n",
    "mpg['transmission'] = mpg.trans.str[:-4] # a little cleaning goes a long way\n",
    "mpg.head()"
   ]
  },
  {
   "cell_type": "code",
   "execution_count": 2,
   "id": "e909f90f-edc1-4263-87ab-8626784732b0",
   "metadata": {},
   "outputs": [
    {
     "data": {
      "text/html": [
       "<style>table {align:left;display:block} </style>"
      ],
      "text/plain": [
       "<IPython.core.display.HTML object>"
      ]
     },
     "execution_count": 2,
     "metadata": {},
     "output_type": "execute_result"
    }
   ],
   "source": [
    "from IPython.core.display import HTML\n",
    "table_css = 'table {align:left;display:block} '\n",
    "HTML('<style>{}</style>'.format(table_css))"
   ]
  },
  {
   "cell_type": "markdown",
   "id": "a7012ebb-b494-46d6-9331-eb39c226fea3",
   "metadata": {
    "tags": []
   },
   "source": [
    "We will investigate the question of whether the cars drive is independent of transmission type.\n",
    "\n",
    "$H_0$: drive is independent of transmission type\n",
    "\n",
    "#### Calculating Expected Proportions\n",
    "\n",
    "To begin with, we will calculate the values we would expect to see if the two groups are independent.\n",
    "\n",
    "For each subgroup, we calculate the proportion of the total that it is, then multiply each subgroups proportion by the proportion from every other subgroup to determine the expected values.\n",
    "\n",
    "To start with, we'll calculate the proportions for transmission type:"
   ]
  },
  {
   "cell_type": "code",
   "execution_count": 3,
   "id": "e1a47ff0-85ca-416d-9132-ceee69ea1c50",
   "metadata": {},
   "outputs": [
    {
     "data": {
      "text/plain": [
       "auto      0.67094\n",
       "manual    0.32906\n",
       "Name: transmission, dtype: float64"
      ]
     },
     "execution_count": 3,
     "metadata": {},
     "output_type": "execute_result"
    }
   ],
   "source": [
    "n = mpg.shape[0]\n",
    "\n",
    "transmission_proportions = mpg.transmission.value_counts() / n\n",
    "transmission_proportions"
   ]
  },
  {
   "cell_type": "markdown",
   "id": "6641a8e4-d413-4553-9cbc-5ed32da36537",
   "metadata": {},
   "source": [
    "This tells us that cars with automatic transmissions make up ~ 67% of the total, and cars with manual transmissions make up ~ 33% of the total.\n",
    "\n",
    "Now we'll do the same for drive types."
   ]
  },
  {
   "cell_type": "code",
   "execution_count": 4,
   "id": "af0d1e8d-241a-4d16-9b63-9c296f551abf",
   "metadata": {},
   "outputs": [
    {
     "data": {
      "text/plain": [
       "f    0.452991\n",
       "4    0.440171\n",
       "r    0.106838\n",
       "Name: drv, dtype: float64"
      ]
     },
     "execution_count": 4,
     "metadata": {},
     "output_type": "execute_result"
    }
   ],
   "source": [
    "drive_proportions = mpg.drv.value_counts() / n\n",
    "drive_proportions"
   ]
  },
  {
   "cell_type": "markdown",
   "id": "3e0f108f-5bc9-4399-8880-4d4c9721dbe3",
   "metadata": {},
   "source": [
    "To find the overall proportions, we multiply all the combinations of proportions together.\n",
    "\n",
    "For example, to find the expected proportion of automatic drive cars with 4-wheel drive, we would multiply those two proportions together.\n",
    "\n",
    "$$.67∗.44 = .2984$$\n",
    "\n",
    "So we would expect about 29.84\\% of the total cars to be automatic and 4-wheel drive.\n",
    "\n",
    "Below we show some code that will loop through all of the proportions and perform this calculation for all combinations of groups.\n"
   ]
  },
  {
   "cell_type": "code",
   "execution_count": 5,
   "id": "70c11a20-8708-4a7e-b43a-d7f4bba9efe1",
   "metadata": {},
   "outputs": [
    {
     "data": {
      "text/html": [
       "<div>\n",
       "<style scoped>\n",
       "    .dataframe tbody tr th:only-of-type {\n",
       "        vertical-align: middle;\n",
       "    }\n",
       "\n",
       "    .dataframe tbody tr th {\n",
       "        vertical-align: top;\n",
       "    }\n",
       "\n",
       "    .dataframe thead th {\n",
       "        text-align: right;\n",
       "    }\n",
       "</style>\n",
       "<table border=\"1\" class=\"dataframe\">\n",
       "  <thead>\n",
       "    <tr style=\"text-align: right;\">\n",
       "      <th></th>\n",
       "      <th>auto</th>\n",
       "      <th>manual</th>\n",
       "    </tr>\n",
       "  </thead>\n",
       "  <tbody>\n",
       "    <tr>\n",
       "      <th>4</th>\n",
       "      <td>0.295328</td>\n",
       "      <td>0.144843</td>\n",
       "    </tr>\n",
       "    <tr>\n",
       "      <th>f</th>\n",
       "      <td>0.303930</td>\n",
       "      <td>0.149061</td>\n",
       "    </tr>\n",
       "    <tr>\n",
       "      <th>r</th>\n",
       "      <td>0.071682</td>\n",
       "      <td>0.035156</td>\n",
       "    </tr>\n",
       "  </tbody>\n",
       "</table>\n",
       "</div>"
      ],
      "text/plain": [
       "       auto    manual\n",
       "4  0.295328  0.144843\n",
       "f  0.303930  0.149061\n",
       "r  0.071682  0.035156"
      ]
     },
     "execution_count": 5,
     "metadata": {},
     "output_type": "execute_result"
    }
   ],
   "source": [
    "expected = pd.DataFrame()\n",
    "\n",
    "for transmission_group, t_prop in transmission_proportions.iteritems():\n",
    "    for drive_group, d_prop in drive_proportions.iteritems():\n",
    "        expected.loc[drive_group, transmission_group] = t_prop * d_prop\n",
    "\n",
    "expected.sort_index(inplace=True)\n",
    "expected"
   ]
  },
  {
   "cell_type": "markdown",
   "id": "faabe42b-7f50-49b9-bae0-50a24f8bd05d",
   "metadata": {},
   "source": [
    "If we wanted to convert these proportions to expected number of values, we can multiply by the total number of observations:"
   ]
  },
  {
   "cell_type": "code",
   "execution_count": 6,
   "id": "5d43ee3e-dc7e-4ff0-967a-f3c7cc2eb297",
   "metadata": {},
   "outputs": [
    {
     "data": {
      "text/html": [
       "<div>\n",
       "<style scoped>\n",
       "    .dataframe tbody tr th:only-of-type {\n",
       "        vertical-align: middle;\n",
       "    }\n",
       "\n",
       "    .dataframe tbody tr th {\n",
       "        vertical-align: top;\n",
       "    }\n",
       "\n",
       "    .dataframe thead th {\n",
       "        text-align: right;\n",
       "    }\n",
       "</style>\n",
       "<table border=\"1\" class=\"dataframe\">\n",
       "  <thead>\n",
       "    <tr style=\"text-align: right;\">\n",
       "      <th></th>\n",
       "      <th>auto</th>\n",
       "      <th>manual</th>\n",
       "    </tr>\n",
       "  </thead>\n",
       "  <tbody>\n",
       "    <tr>\n",
       "      <th>4</th>\n",
       "      <td>69.106838</td>\n",
       "      <td>33.893162</td>\n",
       "    </tr>\n",
       "    <tr>\n",
       "      <th>f</th>\n",
       "      <td>71.119658</td>\n",
       "      <td>34.880342</td>\n",
       "    </tr>\n",
       "    <tr>\n",
       "      <th>r</th>\n",
       "      <td>16.773504</td>\n",
       "      <td>8.226496</td>\n",
       "    </tr>\n",
       "  </tbody>\n",
       "</table>\n",
       "</div>"
      ],
      "text/plain": [
       "        auto     manual\n",
       "4  69.106838  33.893162\n",
       "f  71.119658  34.880342\n",
       "r  16.773504   8.226496"
      ]
     },
     "execution_count": 6,
     "metadata": {},
     "output_type": "execute_result"
    }
   ],
   "source": [
    "expected *= n\n",
    "expected"
   ]
  },
  {
   "cell_type": "markdown",
   "id": "a4793147-0a13-4229-829d-2c650366675a",
   "metadata": {},
   "source": [
    "Now we have the expected proportions, we need to calculate the actual proportions so that we can compare them. to do this, we'll use the `crosstab` function from pandas."
   ]
  },
  {
   "cell_type": "code",
   "execution_count": 7,
   "id": "0394cc67-d65b-441f-b305-af8b9d75c566",
   "metadata": {},
   "outputs": [
    {
     "data": {
      "text/html": [
       "<div>\n",
       "<style scoped>\n",
       "    .dataframe tbody tr th:only-of-type {\n",
       "        vertical-align: middle;\n",
       "    }\n",
       "\n",
       "    .dataframe tbody tr th {\n",
       "        vertical-align: top;\n",
       "    }\n",
       "\n",
       "    .dataframe thead th {\n",
       "        text-align: right;\n",
       "    }\n",
       "</style>\n",
       "<table border=\"1\" class=\"dataframe\">\n",
       "  <thead>\n",
       "    <tr style=\"text-align: right;\">\n",
       "      <th>transmission</th>\n",
       "      <th>auto</th>\n",
       "      <th>manual</th>\n",
       "    </tr>\n",
       "    <tr>\n",
       "      <th>drv</th>\n",
       "      <th></th>\n",
       "      <th></th>\n",
       "    </tr>\n",
       "  </thead>\n",
       "  <tbody>\n",
       "    <tr>\n",
       "      <th>4</th>\n",
       "      <td>75</td>\n",
       "      <td>28</td>\n",
       "    </tr>\n",
       "    <tr>\n",
       "      <th>f</th>\n",
       "      <td>65</td>\n",
       "      <td>41</td>\n",
       "    </tr>\n",
       "    <tr>\n",
       "      <th>r</th>\n",
       "      <td>17</td>\n",
       "      <td>8</td>\n",
       "    </tr>\n",
       "  </tbody>\n",
       "</table>\n",
       "</div>"
      ],
      "text/plain": [
       "transmission  auto  manual\n",
       "drv                       \n",
       "4               75      28\n",
       "f               65      41\n",
       "r               17       8"
      ]
     },
     "execution_count": 7,
     "metadata": {},
     "output_type": "execute_result"
    }
   ],
   "source": [
    "observed = pd.crosstab(mpg.drv, mpg.transmission)\n",
    "observed"
   ]
  },
  {
   "cell_type": "markdown",
   "id": "aa5f0718-8586-4519-a274-e79b107408de",
   "metadata": {},
   "source": [
    "Now we can calculate our test statistic, $χ^2$\n"
   ]
  },
  {
   "cell_type": "code",
   "execution_count": 8,
   "id": "fdfd6307-1214-4f9d-8b3f-b3cad616067b",
   "metadata": {},
   "outputs": [
    {
     "data": {
      "text/plain": [
       "3.136769245971112"
      ]
     },
     "execution_count": 8,
     "metadata": {},
     "output_type": "execute_result"
    }
   ],
   "source": [
    "chi2 = ((observed - expected)**2 / expected).values.sum()\n",
    "chi2"
   ]
  },
  {
   "cell_type": "markdown",
   "id": "d7597726-acf4-483d-aaec-7b6edc9edb7d",
   "metadata": {},
   "source": [
    "We also need to find our degrees of freedom for the distribution. The degrees of freedom are given by:\n",
    "\n",
    "$$(nrows−1)×(ncols−1)$$\n",
    "\n",
    "Where nrows and ncols are the number of rows and columns in our contingency table.\n"
   ]
  },
  {
   "cell_type": "code",
   "execution_count": 9,
   "id": "9bb382b5-facc-4007-ba25-f15cab6878b3",
   "metadata": {},
   "outputs": [],
   "source": [
    "nrows, ncols = observed.shape\n",
    "\n",
    "degrees_of_freedom = (nrows - 1) * (ncols - 1)"
   ]
  },
  {
   "cell_type": "markdown",
   "id": "37dee7e3-60c5-48ea-af4b-20bb095c1237",
   "metadata": {},
   "source": [
    "Now, based on the test statistic and degrees of freedom, we could lookup the corresponding p-value from a pre-calculated table, or use `scipy`'s chi2 distribution.\n"
   ]
  },
  {
   "cell_type": "code",
   "execution_count": 10,
   "id": "68c787e7-ca24-4888-8ef3-f643491af8dc",
   "metadata": {},
   "outputs": [
    {
     "data": {
      "text/plain": [
       "0.20838152534979645"
      ]
     },
     "execution_count": 10,
     "metadata": {},
     "output_type": "execute_result"
    }
   ],
   "source": [
    "stats.chi2(degrees_of_freedom).sf(chi2)"
   ]
  },
  {
   "cell_type": "markdown",
   "id": "b01848c0-6a9a-4260-9854-1118d3ff23f5",
   "metadata": {},
   "source": [
    "With this high of a p-value, we fail to reject our null hypothesis."
   ]
  },
  {
   "cell_type": "markdown",
   "id": "e3aafd6b-2e83-41b3-8f64-e07dc501f412",
   "metadata": {},
   "source": [
    "### Another Example\n",
    "\n",
    "Suppose we have the following contingency table:"
   ]
  },
  {
   "cell_type": "markdown",
   "id": "b6bfdf91-2461-47b7-9cd2-a21b4fffe219",
   "metadata": {},
   "source": [
    "|          | Product A | Product B |\n",
    "|----------|-----------|-----------|\n",
    "| Churn    | 100       | 50        |\n",
    "| No Churn | 120       | 28        |"
   ]
  },
  {
   "cell_type": "markdown",
   "id": "8f5fdaf2-b0d3-4258-b2f3-0f66e7459abf",
   "metadata": {},
   "source": [
    "And we want to know if a customer churning is independent of which product offering they have.\n",
    "\n",
    "We have all the information that we need to run a $χ^2$ test, because we can calculate the population proportions from the above table."
   ]
  },
  {
   "cell_type": "markdown",
   "id": "ef9e039c-ce08-41de-9d86-cbe2aa5cfe1b",
   "metadata": {},
   "source": [
    "1. Find the proportions for Product A, Product B, Churn, and No Churn\n",
    "\n",
    "|          | Product A | Product B |     |\n",
    "|----------|-----------|-----------|-----|\n",
    "| Churn    | 100       | 50        | 150 |\n",
    "| No Churn | 120       | 28        | 148 |\n",
    "|          | 220       | 78        | 298 |"
   ]
  },
  {
   "cell_type": "markdown",
   "id": "b4acf1b4-8f6a-4956-9dc2-0d4036559236",
   "metadata": {},
   "source": [
    "2. Calculate the proportions\n",
    "- Product A = 220 / 298 = .738\n",
    "- Product B = 78 / 298 = .262\n",
    "- Churn = 150 / 298 = .503\n",
    "- No churn = 148 / 298 = .497"
   ]
  },
  {
   "cell_type": "markdown",
   "id": "8fe88d42-2ecb-4b4d-aa66-333c14a1215b",
   "metadata": {},
   "source": [
    "3. Multiply these together to produce a contingency table of expected values\n",
    "First we calculate proportions:\n",
    "\n",
    "|          | Product A | Product B |\n",
    "|----------|-----------|-----------|\n",
    "| Churn    | 0.372     | 0.132     |\n",
    "| No Churn | 0.367     | 0.130     |"
   ]
  },
  {
   "cell_type": "markdown",
   "id": "a5a1f339-814d-44ee-bab7-89d32ad6046a",
   "metadata": {},
   "source": [
    "Then we can also see the actual expected number:\n",
    "\n",
    "|          | Product A | Product B |\n",
    "|----------|-----------|-----------|\n",
    "| Churn    | 110.7     | 39.3      |\n",
    "| No Churn | 109.3     | 38.7      |"
   ]
  },
  {
   "cell_type": "markdown",
   "id": "4e22d55f-139b-46e7-a663-96d0c28c53a6",
   "metadata": {},
   "source": [
    "4. Calculate the test statistic and compute a p-value"
   ]
  },
  {
   "cell_type": "code",
   "execution_count": 11,
   "id": "e86a6d14-bd83-4b99-95ad-d73f4aaaa1a6",
   "metadata": {},
   "outputs": [
    {
     "name": "stdout",
     "output_type": "stream",
     "text": [
      "Observed\n",
      "          Product A  Product B\n",
      "Churn           100         50\n",
      "No Churn        120         28\n",
      "---\n",
      "Expected\n",
      "          Product A  Product B\n",
      "Churn       110.856     39.336\n",
      "No Churn    109.366     38.740\n",
      "---\n",
      "\n",
      "chi^2 = 7.9656\n",
      "p     = 0.0048\n"
     ]
    }
   ],
   "source": [
    "index = ['Churn', 'No Churn']\n",
    "columns = ['Product A', 'Product B']\n",
    "\n",
    "observed = pd.DataFrame([[100, 50], [120, 28]], index=index, columns=columns)\n",
    "n = observed.values.sum()\n",
    "\n",
    "expected = pd.DataFrame([[.372, .132], [.367, .130]], index=index, columns=columns) * n\n",
    "\n",
    "chi2 = ((observed - expected)**2 / expected).values.sum()\n",
    "\n",
    "nrows, ncols = observed.shape\n",
    "\n",
    "degrees_of_freedom = (nrows - 1) * (ncols - 1)\n",
    "\n",
    "p = stats.chi2(degrees_of_freedom).sf(chi2)\n",
    "\n",
    "print('Observed')\n",
    "print(observed)\n",
    "print('---\\nExpected')\n",
    "print(expected)\n",
    "print('---\\n')\n",
    "print(f'chi^2 = {chi2:.4f}')\n",
    "print(f'p     = {p:.4f}')"
   ]
  },
  {
   "cell_type": "markdown",
   "id": "ffb042b1-32e4-4ccc-ac61-5a2fcea5a59d",
   "metadata": {},
   "source": [
    "#### The Easy Way\n",
    "\n",
    "We can also give our observed values to the `chi2_contingency` function from scipy's `stats` module to make all the calculations for us.\n"
   ]
  },
  {
   "cell_type": "code",
   "execution_count": 12,
   "id": "ba48380a-58d5-48be-9538-8bbf327c2bcf",
   "metadata": {},
   "outputs": [],
   "source": [
    "observed = pd.crosstab(mpg.drv, mpg.transmission)"
   ]
  },
  {
   "cell_type": "code",
   "execution_count": 13,
   "id": "0c51f165-4e9a-4bac-9165-c9d078f4a498",
   "metadata": {},
   "outputs": [
    {
     "name": "stdout",
     "output_type": "stream",
     "text": [
      "Observed\n",
      "\n",
      "[[75 28]\n",
      " [65 41]\n",
      " [17  8]]\n",
      "---\n",
      "Expected\n",
      "\n",
      "[[69.10683761 33.89316239]\n",
      " [71.11965812 34.88034188]\n",
      " [16.77350427  8.22649573]]\n",
      "---\n",
      "\n",
      "chi^2 = 3.1368\n",
      "p     = 0.2084\n"
     ]
    }
   ],
   "source": [
    "chi2, p, degf, expected = stats.chi2_contingency(observed)\n",
    "\n",
    "print('Observed\\n')\n",
    "print(observed.values)\n",
    "print('---\\nExpected\\n')\n",
    "print(expected)\n",
    "print('---\\n')\n",
    "print(f'chi^2 = {chi2:.4f}')\n",
    "print(f'p     = {p:.4f}')"
   ]
  },
  {
   "cell_type": "markdown",
   "id": "a4e0b019-737f-4a07-b4ba-f45b6381956a",
   "metadata": {},
   "source": [
    "Note that this function will return not just the $χ^2$ test statistic and p-value, but also the degrees of freedom, and a matrix of expected values."
   ]
  }
 ],
 "metadata": {
  "kernelspec": {
   "display_name": "Python 3 (ipykernel)",
   "language": "python",
   "name": "python3"
  },
  "language_info": {
   "codemirror_mode": {
    "name": "ipython",
    "version": 3
   },
   "file_extension": ".py",
   "mimetype": "text/x-python",
   "name": "python",
   "nbconvert_exporter": "python",
   "pygments_lexer": "ipython3",
   "version": "3.9.7"
  }
 },
 "nbformat": 4,
 "nbformat_minor": 5
}
