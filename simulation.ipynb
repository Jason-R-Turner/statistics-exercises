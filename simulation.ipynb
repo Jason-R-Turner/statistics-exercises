{
 "cells": [
  {
   "cell_type": "markdown",
   "id": "f3eb64c4",
   "metadata": {},
   "source": [
    "# Simulation\n",
    "\n",
    "\n"
   ]
  },
  {
   "cell_type": "code",
   "execution_count": 1,
   "id": "0825b8e3",
   "metadata": {},
   "outputs": [],
   "source": [
    "%matplotlib inline\n",
    "import numpy as np\n",
    "import pandas as pd"
   ]
  },
  {
   "cell_type": "code",
   "execution_count": 2,
   "id": "e0282b03",
   "metadata": {},
   "outputs": [
    {
     "data": {
      "text/plain": [
       "array([2, 3, 2, 2, 2, 3, 3, 3, 3, 2, 3, 3, 0, 2, 2, 0, 2, 2, 1, 3, 3, 1,\n",
       "       2, 2, 0, 3, 2, 0, 2, 3, 0, 2, 2, 3, 2, 3, 0, 2, 1, 2, 2, 3, 2, 1,\n",
       "       2, 2, 3, 0, 2, 3, 3, 2, 2, 0, 0, 3, 3, 0, 3, 3, 3, 3, 2, 3, 2, 2,\n",
       "       0, 3, 2, 3, 3, 3, 3, 2, 3, 0, 3, 3, 2, 3, 2, 0, 3, 3, 3, 0, 2, 0,\n",
       "       0, 2, 0, 2, 2, 3, 2, 2, 3, 3, 3, 2])"
      ]
     },
     "execution_count": 2,
     "metadata": {},
     "output_type": "execute_result"
    }
   ],
   "source": [
    "np.random.choice(4, 100, replace=True, p=[.2, .1, .3, .4])"
   ]
  },
  {
   "cell_type": "code",
   "execution_count": 3,
   "id": "983c519b",
   "metadata": {},
   "outputs": [
    {
     "name": "stdout",
     "output_type": "stream",
     "text": [
      "Help on built-in function choice:\n",
      "\n",
      "choice(...) method of numpy.random.mtrand.RandomState instance\n",
      "    choice(a, size=None, replace=True, p=None)\n",
      "    \n",
      "    Generates a random sample from a given 1-D array\n",
      "    \n",
      "    .. versionadded:: 1.7.0\n",
      "    \n",
      "    .. note::\n",
      "        New code should use the ``choice`` method of a ``default_rng()``\n",
      "        instance instead; please see the :ref:`random-quick-start`.\n",
      "    \n",
      "    Parameters\n",
      "    ----------\n",
      "    a : 1-D array-like or int\n",
      "        If an ndarray, a random sample is generated from its elements.\n",
      "        If an int, the random sample is generated as if a were np.arange(a)\n",
      "    size : int or tuple of ints, optional\n",
      "        Output shape.  If the given shape is, e.g., ``(m, n, k)``, then\n",
      "        ``m * n * k`` samples are drawn.  Default is None, in which case a\n",
      "        single value is returned.\n",
      "    replace : boolean, optional\n",
      "        Whether the sample is with or without replacement\n",
      "    p : 1-D array-like, optional\n",
      "        The probabilities associated with each entry in a.\n",
      "        If not given the sample assumes a uniform distribution over all\n",
      "        entries in a.\n",
      "    \n",
      "    Returns\n",
      "    -------\n",
      "    samples : single item or ndarray\n",
      "        The generated random samples\n",
      "    \n",
      "    Raises\n",
      "    ------\n",
      "    ValueError\n",
      "        If a is an int and less than zero, if a or p are not 1-dimensional,\n",
      "        if a is an array-like of size 0, if p is not a vector of\n",
      "        probabilities, if a and p have different lengths, or if\n",
      "        replace=False and the sample size is greater than the population\n",
      "        size\n",
      "    \n",
      "    See Also\n",
      "    --------\n",
      "    randint, shuffle, permutation\n",
      "    Generator.choice: which should be used in new code\n",
      "    \n",
      "    Notes\n",
      "    -----\n",
      "    Sampling random rows from a 2-D array is not possible with this function,\n",
      "    but is possible with `Generator.choice` through its ``axis`` keyword.\n",
      "    \n",
      "    Examples\n",
      "    --------\n",
      "    Generate a uniform random sample from np.arange(5) of size 3:\n",
      "    \n",
      "    >>> np.random.choice(5, 3)\n",
      "    array([0, 3, 4]) # random\n",
      "    >>> #This is equivalent to np.random.randint(0,5,3)\n",
      "    \n",
      "    Generate a non-uniform random sample from np.arange(5) of size 3:\n",
      "    \n",
      "    >>> np.random.choice(5, 3, p=[0.1, 0, 0.3, 0.6, 0])\n",
      "    array([3, 3, 0]) # random\n",
      "    \n",
      "    Generate a uniform random sample from np.arange(5) of size 3 without\n",
      "    replacement:\n",
      "    \n",
      "    >>> np.random.choice(5, 3, replace=False)\n",
      "    array([3,1,0]) # random\n",
      "    >>> #This is equivalent to np.random.permutation(np.arange(5))[:3]\n",
      "    \n",
      "    Generate a non-uniform random sample from np.arange(5) of size\n",
      "    3 without replacement:\n",
      "    \n",
      "    >>> np.random.choice(5, 3, replace=False, p=[0.1, 0, 0.3, 0.6, 0])\n",
      "    array([2, 3, 0]) # random\n",
      "    \n",
      "    Any of the above can be repeated with an arbitrary array-like\n",
      "    instead of just integers. For instance:\n",
      "    \n",
      "    >>> aa_milne_arr = ['pooh', 'rabbit', 'piglet', 'Christopher']\n",
      "    >>> np.random.choice(aa_milne_arr, 5, p=[0.5, 0.1, 0.1, 0.3])\n",
      "    array(['pooh', 'pooh', 'pooh', 'Christopher', 'piglet'], # random\n",
      "          dtype='<U11')\n",
      "\n"
     ]
    }
   ],
   "source": [
    "help(np.random.choice)"
   ]
  },
  {
   "cell_type": "markdown",
   "id": "7ce248ea",
   "metadata": {},
   "source": [
    "1. How likely is it that you roll doubles when rolling two dice?"
   ]
  },
  {
   "cell_type": "code",
   "execution_count": 4,
   "id": "464401f5",
   "metadata": {},
   "outputs": [
    {
     "data": {
      "text/plain": [
       "array([[ 5, 20],\n",
       "       [17,  8],\n",
       "       [ 3, 14],\n",
       "       ...,\n",
       "       [ 7, 11],\n",
       "       [18, 10],\n",
       "       [ 1,  2]])"
      ]
     },
     "execution_count": 4,
     "metadata": {},
     "output_type": "execute_result"
    }
   ],
   "source": [
    "n_trials = nrows = 10000\n",
    "n_dice = ncols = 2\n",
    "\n",
    "rolls = np.random.choice([1, 2, 3, 4, 5, 6, 7, 8, 9, 10, 11, 12, 13, 14, 15, 16, 17, 18, 19, 20], n_trials * n_dice).reshape(nrows, ncols)\n",
    "rolls\n"
   ]
  },
  {
   "cell_type": "code",
   "execution_count": 5,
   "id": "a66267c9",
   "metadata": {},
   "outputs": [
    {
     "name": "stdout",
     "output_type": "stream",
     "text": [
      "*** Find rows wih same values in a matrix or 2D Numpy array***\n"
     ]
    },
    {
     "data": {
      "text/plain": [
       "503"
      ]
     },
     "execution_count": 5,
     "metadata": {},
     "output_type": "execute_result"
    }
   ],
   "source": [
    "def doubles():\n",
    "    print('*** Find rows wih same values in a matrix or 2D Numpy array***')\n",
    "    # Check rows in which all values are equal\n",
    "    number_of_doubles = 0\n",
    "    for i in range(rolls.shape[0]):\n",
    "        if np.all(rolls[i]==rolls[i][0]):\n",
    "            number_of_doubles = number_of_doubles + 1\n",
    "    return number_of_doubles\n",
    "doubles()"
   ]
  },
  {
   "cell_type": "code",
   "execution_count": 6,
   "id": "f61fe4f0",
   "metadata": {},
   "outputs": [
    {
     "name": "stdout",
     "output_type": "stream",
     "text": [
      "*** Find rows wih same values in a matrix or 2D Numpy array***\n",
      "5.029999999999999 % chance of rolling doubles\n"
     ]
    }
   ],
   "source": [
    "chance_of_doubles = doubles()/rolls.shape[0]\n",
    "chance_of_doubles\n",
    "print(chance_of_doubles * 100, \"% chance of rolling doubles\")"
   ]
  },
  {
   "cell_type": "markdown",
   "id": "ce694a9d",
   "metadata": {},
   "source": [
    "2. If you flip 8 coins, what is the probability of getting exactly 3 heads? What is the probability of getting more than 3 heads?"
   ]
  },
  {
   "cell_type": "code",
   "execution_count": 7,
   "id": "2c45dff6",
   "metadata": {},
   "outputs": [
    {
     "data": {
      "text/plain": [
       "array([[1, 1, 1, ..., 1, 1, 0],\n",
       "       [1, 1, 0, ..., 0, 0, 1],\n",
       "       [1, 0, 1, ..., 1, 0, 0],\n",
       "       ...,\n",
       "       [1, 1, 1, ..., 0, 1, 0],\n",
       "       [1, 1, 0, ..., 1, 1, 0],\n",
       "       [1, 0, 1, ..., 0, 0, 0]])"
      ]
     },
     "execution_count": 7,
     "metadata": {},
     "output_type": "execute_result"
    }
   ],
   "source": [
    "n_trials = nrows = 100000\n",
    "n_flips = ncols = 8\n",
    "flips = np.random.choice([0, 1], n_trials * n_flips).reshape(nrows, ncols)\n",
    "flips"
   ]
  },
  {
   "cell_type": "code",
   "execution_count": 8,
   "id": "1ed5b728",
   "metadata": {},
   "outputs": [
    {
     "data": {
      "text/plain": [
       "22023"
      ]
     },
     "execution_count": 8,
     "metadata": {},
     "output_type": "execute_result"
    }
   ],
   "source": [
    "def exactly_three_heads():\n",
    "    # Check rows in which there are exactly 3 heads\n",
    "    three_heads = 0\n",
    "    for i in range(flips.shape[0]):\n",
    "        if np.all(np.sum(flips[i]) == 3):\n",
    "            three_heads = three_heads + 1\n",
    "    return three_heads\n",
    "\n",
    "exactly_three_heads()"
   ]
  },
  {
   "cell_type": "code",
   "execution_count": 9,
   "id": "c39a918e",
   "metadata": {},
   "outputs": [
    {
     "name": "stdout",
     "output_type": "stream",
     "text": [
      "22.02 % chance of getting exactly 3 heads\n"
     ]
    }
   ],
   "source": [
    "chance_of_exactly_3_heads = (exactly_three_heads()/flips.shape[0])\n",
    "chance_of_exactly_3_heads\n",
    "print(round((chance_of_exactly_3_heads * 100), 2), \"% chance of getting exactly 3 heads\")"
   ]
  },
  {
   "cell_type": "markdown",
   "id": "ce09199c",
   "metadata": {},
   "source": [
    "3.  There are approximitely 3 web development cohorts for every 1 data science cohort at Codeup. Assuming that Codeup randomly selects an alumni to put on a billboard, what are the odds that the two billboards I drive past both have data science students on them?"
   ]
  },
  {
   "cell_type": "code",
   "execution_count": 10,
   "id": "3c45cec0",
   "metadata": {},
   "outputs": [
    {
     "name": "stdout",
     "output_type": "stream",
     "text": [
      "[False  True False False False False False False  True False False  True\n",
      " False False False False  True False False False False False False False\n",
      "  True False False False False False False False False False False False\n",
      " False False False False False False False False False False False False\n",
      " False False False False False False False False False False  True  True\n",
      " False False False False False False False False False False False False\n",
      " False False False False  True False False False False False False False\n",
      " False False False False False False False False False False  True False\n",
      " False False False False]\n"
     ]
    },
    {
     "data": {
      "text/plain": [
       "9"
      ]
     },
     "execution_count": 10,
     "metadata": {},
     "output_type": "execute_result"
    }
   ],
   "source": [
    "n_trials = nrows = 100\n",
    "n_type = ncols = 2\n",
    "drives = np.random.choice(2, n_trials * n_type, replace=True, p=[.75, .25]).reshape(nrows, ncols)\n",
    "odds = drives.sum(axis=1)\n",
    "odds = odds == 2\n",
    "print(odds)\n",
    "odds = odds.sum()\n",
    "odds"
   ]
  },
  {
   "cell_type": "markdown",
   "id": "c6958a9c",
   "metadata": {},
   "source": [
    "4.  Codeup students buy, on average, 3 poptart packages with a standard deviation of 1.5 a day from the snack vending machine. If on monday the machine is restocked with 17 poptart packages, how likely is it that I will be able to buy some poptarts on Friday afternoon? (Remember, if you have mean and standard deviation, use the np.random.normal)"
   ]
  },
  {
   "cell_type": "code",
   "execution_count": 11,
   "id": "266ad863",
   "metadata": {},
   "outputs": [
    {
     "name": "stdout",
     "output_type": "stream",
     "text": [
      "Help on built-in function normal:\n",
      "\n",
      "normal(...) method of numpy.random.mtrand.RandomState instance\n",
      "    normal(loc=0.0, scale=1.0, size=None)\n",
      "    \n",
      "    Draw random samples from a normal (Gaussian) distribution.\n",
      "    \n",
      "    The probability density function of the normal distribution, first\n",
      "    derived by De Moivre and 200 years later by both Gauss and Laplace\n",
      "    independently [2]_, is often called the bell curve because of\n",
      "    its characteristic shape (see the example below).\n",
      "    \n",
      "    The normal distributions occurs often in nature.  For example, it\n",
      "    describes the commonly occurring distribution of samples influenced\n",
      "    by a large number of tiny, random disturbances, each with its own\n",
      "    unique distribution [2]_.\n",
      "    \n",
      "    .. note::\n",
      "        New code should use the ``normal`` method of a ``default_rng()``\n",
      "        instance instead; please see the :ref:`random-quick-start`.\n",
      "    \n",
      "    Parameters\n",
      "    ----------\n",
      "    loc : float or array_like of floats\n",
      "        Mean (\"centre\") of the distribution.\n",
      "    scale : float or array_like of floats\n",
      "        Standard deviation (spread or \"width\") of the distribution. Must be\n",
      "        non-negative.\n",
      "    size : int or tuple of ints, optional\n",
      "        Output shape.  If the given shape is, e.g., ``(m, n, k)``, then\n",
      "        ``m * n * k`` samples are drawn.  If size is ``None`` (default),\n",
      "        a single value is returned if ``loc`` and ``scale`` are both scalars.\n",
      "        Otherwise, ``np.broadcast(loc, scale).size`` samples are drawn.\n",
      "    \n",
      "    Returns\n",
      "    -------\n",
      "    out : ndarray or scalar\n",
      "        Drawn samples from the parameterized normal distribution.\n",
      "    \n",
      "    See Also\n",
      "    --------\n",
      "    scipy.stats.norm : probability density function, distribution or\n",
      "        cumulative density function, etc.\n",
      "    Generator.normal: which should be used for new code.\n",
      "    \n",
      "    Notes\n",
      "    -----\n",
      "    The probability density for the Gaussian distribution is\n",
      "    \n",
      "    .. math:: p(x) = \\frac{1}{\\sqrt{ 2 \\pi \\sigma^2 }}\n",
      "                     e^{ - \\frac{ (x - \\mu)^2 } {2 \\sigma^2} },\n",
      "    \n",
      "    where :math:`\\mu` is the mean and :math:`\\sigma` the standard\n",
      "    deviation. The square of the standard deviation, :math:`\\sigma^2`,\n",
      "    is called the variance.\n",
      "    \n",
      "    The function has its peak at the mean, and its \"spread\" increases with\n",
      "    the standard deviation (the function reaches 0.607 times its maximum at\n",
      "    :math:`x + \\sigma` and :math:`x - \\sigma` [2]_).  This implies that\n",
      "    normal is more likely to return samples lying close to the mean, rather\n",
      "    than those far away.\n",
      "    \n",
      "    References\n",
      "    ----------\n",
      "    .. [1] Wikipedia, \"Normal distribution\",\n",
      "           https://en.wikipedia.org/wiki/Normal_distribution\n",
      "    .. [2] P. R. Peebles Jr., \"Central Limit Theorem\" in \"Probability,\n",
      "           Random Variables and Random Signal Principles\", 4th ed., 2001,\n",
      "           pp. 51, 51, 125.\n",
      "    \n",
      "    Examples\n",
      "    --------\n",
      "    Draw samples from the distribution:\n",
      "    \n",
      "    >>> mu, sigma = 0, 0.1 # mean and standard deviation\n",
      "    >>> s = np.random.normal(mu, sigma, 1000)\n",
      "    \n",
      "    Verify the mean and the variance:\n",
      "    \n",
      "    >>> abs(mu - np.mean(s))\n",
      "    0.0  # may vary\n",
      "    \n",
      "    >>> abs(sigma - np.std(s, ddof=1))\n",
      "    0.1  # may vary\n",
      "    \n",
      "    Display the histogram of the samples, along with\n",
      "    the probability density function:\n",
      "    \n",
      "    >>> import matplotlib.pyplot as plt\n",
      "    >>> count, bins, ignored = plt.hist(s, 30, density=True)\n",
      "    >>> plt.plot(bins, 1/(sigma * np.sqrt(2 * np.pi)) *\n",
      "    ...                np.exp( - (bins - mu)**2 / (2 * sigma**2) ),\n",
      "    ...          linewidth=2, color='r')\n",
      "    >>> plt.show()\n",
      "    \n",
      "    Two-by-four array of samples from N(3, 6.25):\n",
      "    \n",
      "    >>> np.random.normal(3, 2.5, size=(2, 4))\n",
      "    array([[-4.49401501,  4.00950034, -1.81814867,  7.29718677],   # random\n",
      "           [ 0.39924804,  4.68456316,  4.99394529,  4.84057254]])  # random\n",
      "\n"
     ]
    },
    {
     "data": {
      "text/html": [
       "<div>\n",
       "<style scoped>\n",
       "    .dataframe tbody tr th:only-of-type {\n",
       "        vertical-align: middle;\n",
       "    }\n",
       "\n",
       "    .dataframe tbody tr th {\n",
       "        vertical-align: top;\n",
       "    }\n",
       "\n",
       "    .dataframe thead th {\n",
       "        text-align: right;\n",
       "    }\n",
       "</style>\n",
       "<table border=\"1\" class=\"dataframe\">\n",
       "  <thead>\n",
       "    <tr style=\"text-align: right;\">\n",
       "      <th></th>\n",
       "      <th>Mon</th>\n",
       "      <th>tues</th>\n",
       "      <th>wed</th>\n",
       "      <th>Thur</th>\n",
       "      <th>Fri</th>\n",
       "    </tr>\n",
       "  </thead>\n",
       "  <tbody>\n",
       "    <tr>\n",
       "      <th>0</th>\n",
       "      <td>4.0</td>\n",
       "      <td>4.0</td>\n",
       "      <td>1.0</td>\n",
       "      <td>2.0</td>\n",
       "      <td>6.0</td>\n",
       "    </tr>\n",
       "    <tr>\n",
       "      <th>1</th>\n",
       "      <td>1.0</td>\n",
       "      <td>4.0</td>\n",
       "      <td>1.0</td>\n",
       "      <td>3.0</td>\n",
       "      <td>4.0</td>\n",
       "    </tr>\n",
       "    <tr>\n",
       "      <th>2</th>\n",
       "      <td>3.0</td>\n",
       "      <td>0.0</td>\n",
       "      <td>2.0</td>\n",
       "      <td>1.0</td>\n",
       "      <td>4.0</td>\n",
       "    </tr>\n",
       "    <tr>\n",
       "      <th>3</th>\n",
       "      <td>4.0</td>\n",
       "      <td>3.0</td>\n",
       "      <td>5.0</td>\n",
       "      <td>-1.0</td>\n",
       "      <td>1.0</td>\n",
       "    </tr>\n",
       "    <tr>\n",
       "      <th>4</th>\n",
       "      <td>3.0</td>\n",
       "      <td>2.0</td>\n",
       "      <td>2.0</td>\n",
       "      <td>4.0</td>\n",
       "      <td>2.0</td>\n",
       "    </tr>\n",
       "  </tbody>\n",
       "</table>\n",
       "</div>"
      ],
      "text/plain": [
       "   Mon  tues  wed  Thur  Fri\n",
       "0  4.0   4.0  1.0   2.0  6.0\n",
       "1  1.0   4.0  1.0   3.0  4.0\n",
       "2  3.0   0.0  2.0   1.0  4.0\n",
       "3  4.0   3.0  5.0  -1.0  1.0\n",
       "4  3.0   2.0  2.0   4.0  2.0"
      ]
     },
     "execution_count": 11,
     "metadata": {},
     "output_type": "execute_result"
    }
   ],
   "source": [
    "help(np.random.normal)\n",
    "\n",
    "n_rows = 10_000\n",
    "n_cols = 5 # to represent a 5 day week\n",
    "mu = 3\n",
    "sigma = 1.5\n",
    "poptarts = np.random.normal(mu, sigma, size=(n_rows, n_cols)).round()\n",
    "poptarts = pd.DataFrame(poptarts, columns=[\"Mon\", \"tues\", \"wed\", \"Thur\", \"Fri\"])\n",
    "poptarts.head()"
   ]
  },
  {
   "cell_type": "code",
   "execution_count": 12,
   "id": "0f580c66",
   "metadata": {},
   "outputs": [
    {
     "data": {
      "text/plain": [
       "Mon    -3.0\n",
       "tues   -3.0\n",
       "wed    -3.0\n",
       "Thur   -3.0\n",
       "Fri    -3.0\n",
       "dtype: float64"
      ]
     },
     "execution_count": 12,
     "metadata": {},
     "output_type": "execute_result"
    }
   ],
   "source": [
    "poptarts.min()"
   ]
  },
  {
   "cell_type": "code",
   "execution_count": 13,
   "id": "2a32de82",
   "metadata": {},
   "outputs": [
    {
     "data": {
      "text/html": [
       "<div>\n",
       "<style scoped>\n",
       "    .dataframe tbody tr th:only-of-type {\n",
       "        vertical-align: middle;\n",
       "    }\n",
       "\n",
       "    .dataframe tbody tr th {\n",
       "        vertical-align: top;\n",
       "    }\n",
       "\n",
       "    .dataframe thead th {\n",
       "        text-align: right;\n",
       "    }\n",
       "</style>\n",
       "<table border=\"1\" class=\"dataframe\">\n",
       "  <thead>\n",
       "    <tr style=\"text-align: right;\">\n",
       "      <th></th>\n",
       "      <th>Mon</th>\n",
       "      <th>tues</th>\n",
       "      <th>wed</th>\n",
       "      <th>Thur</th>\n",
       "      <th>Fri</th>\n",
       "      <th>n_consumed</th>\n",
       "    </tr>\n",
       "  </thead>\n",
       "  <tbody>\n",
       "    <tr>\n",
       "      <th>0</th>\n",
       "      <td>4.0</td>\n",
       "      <td>4.0</td>\n",
       "      <td>1.0</td>\n",
       "      <td>2.0</td>\n",
       "      <td>6.0</td>\n",
       "      <td>17.0</td>\n",
       "    </tr>\n",
       "    <tr>\n",
       "      <th>1</th>\n",
       "      <td>1.0</td>\n",
       "      <td>4.0</td>\n",
       "      <td>1.0</td>\n",
       "      <td>3.0</td>\n",
       "      <td>4.0</td>\n",
       "      <td>13.0</td>\n",
       "    </tr>\n",
       "    <tr>\n",
       "      <th>2</th>\n",
       "      <td>3.0</td>\n",
       "      <td>0.0</td>\n",
       "      <td>2.0</td>\n",
       "      <td>1.0</td>\n",
       "      <td>4.0</td>\n",
       "      <td>10.0</td>\n",
       "    </tr>\n",
       "    <tr>\n",
       "      <th>3</th>\n",
       "      <td>4.0</td>\n",
       "      <td>3.0</td>\n",
       "      <td>5.0</td>\n",
       "      <td>-1.0</td>\n",
       "      <td>1.0</td>\n",
       "      <td>12.0</td>\n",
       "    </tr>\n",
       "    <tr>\n",
       "      <th>4</th>\n",
       "      <td>3.0</td>\n",
       "      <td>2.0</td>\n",
       "      <td>2.0</td>\n",
       "      <td>4.0</td>\n",
       "      <td>2.0</td>\n",
       "      <td>13.0</td>\n",
       "    </tr>\n",
       "  </tbody>\n",
       "</table>\n",
       "</div>"
      ],
      "text/plain": [
       "   Mon  tues  wed  Thur  Fri  n_consumed\n",
       "0  4.0   4.0  1.0   2.0  6.0        17.0\n",
       "1  1.0   4.0  1.0   3.0  4.0        13.0\n",
       "2  3.0   0.0  2.0   1.0  4.0        10.0\n",
       "3  4.0   3.0  5.0  -1.0  1.0        12.0\n",
       "4  3.0   2.0  2.0   4.0  2.0        13.0"
      ]
     },
     "execution_count": 13,
     "metadata": {},
     "output_type": "execute_result"
    }
   ],
   "source": [
    "poptarts[\"n_consumed\"] = poptarts.sum(axis=1)\n",
    "poptarts.head()"
   ]
  },
  {
   "cell_type": "code",
   "execution_count": 14,
   "id": "12896f8d",
   "metadata": {},
   "outputs": [
    {
     "name": "stdout",
     "output_type": "stream",
     "text": [
      "67.61 % chance of being able to buy poptarts on Friday\n"
     ]
    }
   ],
   "source": [
    "# What's the chance we can buy poptarts on Friday afternoon\n",
    "# This setpup would predicate\n",
    "(poptarts.n_consumed < 17).mean()\n",
    "print(round(((poptarts.n_consumed < 17).mean()) * 100, 2), \"% chance of being able to buy poptarts on Friday\")\n"
   ]
  },
  {
   "cell_type": "markdown",
   "id": "c0951d07",
   "metadata": {},
   "source": [
    "5. Compare Heights\n",
    "- Men have an average height of 178 cm and standard deviation of 8cm.\n",
    "- Women have a mean of 170, sd = 6cm.\n",
    "- Since you have means and standard deviations, you can use np.random.normal to generate observations.\n",
    "- If a man and woman are chosen at random, what is the likelihood the woman is taller than the man?"
   ]
  },
  {
   "cell_type": "code",
   "execution_count": 15,
   "id": "502c4642",
   "metadata": {},
   "outputs": [
    {
     "name": "stdout",
     "output_type": "stream",
     "text": [
      "25.42 % chance of a woman being taller than a man\n"
     ]
    }
   ],
   "source": [
    "m_heights = np.random.normal(178, 8, size=10_000)\n",
    "f_heights = np.random.normal(178, 6, size=10_000)\n",
    "(f_heights > m_heights)\n",
    "print(round(((np.count_nonzero(f_heights > m_heights))/20_000) * 100, 2), \"% chance of a woman being taller than a man\")\n"
   ]
  },
  {
   "cell_type": "markdown",
   "id": "3f480458",
   "metadata": {},
   "source": [
    "6. a. When installing anaconda on a student's computer, there's a 1 in 250 chance that the download is corrupted and the installation fails. What are the odds that after having 50 students download anaconda, no one has an installation issue? 100 students?"
   ]
  },
  {
   "cell_type": "code",
   "execution_count": 16,
   "id": "53909a19",
   "metadata": {},
   "outputs": [
    {
     "name": "stdout",
     "output_type": "stream",
     "text": [
      "81.77 % chance of no failed anaconda installation out of 50 students\n",
      "67.07 % chance of no failed anaconda installation out of 100 students\n"
     ]
    }
   ],
   "source": [
    "n_rows = 100_000\n",
    "n_columns = 50\n",
    "\n",
    "installs = np.random.choice([0,1], p=[0.004, 0.996], size=(n_rows, n_columns))\n",
    "\n",
    "(installs.sum(axis=1) == 50).mean()\n",
    "print(round((installs.sum(axis=1) == 50).mean() * 100, 2), \"% chance of no failed anaconda installation out of 50 students\")\n",
    "\n",
    "n_columns = 100\n",
    "(installs.sum(axis=1) == 100).mean()\n",
    "installs = np.random.choice([0,1], p=[0.004, 0.996], size=(n_rows, n_columns))\n",
    "print(round((installs.sum(axis=1) == 100).mean() * 100, 2), \"% chance of no failed anaconda installation out of 100 students\")\n"
   ]
  },
  {
   "cell_type": "markdown",
   "id": "016a0f6b",
   "metadata": {},
   "source": [
    "6. b. What is the probability that we observe an installation issue within the first 150 students that download anaconda?"
   ]
  },
  {
   "cell_type": "code",
   "execution_count": 17,
   "id": "c3f19c38",
   "metadata": {},
   "outputs": [
    {
     "name": "stdout",
     "output_type": "stream",
     "text": [
      "45.1 % chance of a failed anaconda installation out of 150 students\n"
     ]
    }
   ],
   "source": [
    "n_columns = 150\n",
    "installs = np.random.choice([0,1], p=[0.004, 0.996], size=(n_rows, n_columns))\n",
    "(installs.sum(axis=1) == 150).mean()\n",
    "print(round(((1-(installs.sum(axis=1) == 150).mean()) * 100), 2), \"% chance of a failed anaconda installation out of 150 students\")"
   ]
  },
  {
   "cell_type": "markdown",
   "id": "404fcea7",
   "metadata": {},
   "source": [
    "6. c. How likely is it that 450 students all download anaconda without an issue?"
   ]
  },
  {
   "cell_type": "code",
   "execution_count": 18,
   "id": "e6ce5db7",
   "metadata": {},
   "outputs": [
    {
     "name": "stdout",
     "output_type": "stream",
     "text": [
      "16.34 % chance of no failed anaconda installation out of 450 students\n"
     ]
    }
   ],
   "source": [
    "n_columns = 450\n",
    "(installs.sum(axis=1) == 450).mean()\n",
    "installs = np.random.choice([0,1], p=[0.004, 0.996], size=(n_rows, n_columns))\n",
    "print(round((installs.sum(axis=1) == 450).mean() * 100, 2), \"% chance of no failed anaconda installation out of 450 students\")"
   ]
  },
  {
   "cell_type": "markdown",
   "id": "218786b0",
   "metadata": {},
   "source": [
    "7. a. There's a 70% chance on any given day that there will be at least one food truck at Travis Park. However, you haven't seen a food truck there in 3 days. How unlikely is this?"
   ]
  },
  {
   "cell_type": "code",
   "execution_count": 19,
   "id": "2bd92ff0",
   "metadata": {},
   "outputs": [
    {
     "name": "stdout",
     "output_type": "stream",
     "text": [
      "2.75 % chance of no food trucks in 3 days\n"
     ]
    }
   ],
   "source": [
    "n_rows = 10_000\n",
    "n_cols = 3 # to represent 3 days in a row\n",
    "\n",
    "trucks = np.random.choice([1, 0], size=(n_rows, n_cols), p=[0.7, 0.3])\n",
    "(trucks.sum(axis=1) == 0).mean()\n",
    "print(round((trucks.sum(axis=1) == 0).mean() * 100, 2), \"% chance of no food trucks in 3 days\")"
   ]
  },
  {
   "cell_type": "markdown",
   "id": "629ad656",
   "metadata": {},
   "source": [
    "7. b. How likely is it that a food truck will show up sometime this week?"
   ]
  },
  {
   "cell_type": "code",
   "execution_count": 20,
   "id": "b4abbc52",
   "metadata": {},
   "outputs": [
    {
     "name": "stdout",
     "output_type": "stream",
     "text": [
      "18.75 % chance of one food trucks in 3 days\n"
     ]
    }
   ],
   "source": [
    "(trucks.sum(axis=1) == 1).mean()\n",
    "print(round((trucks.sum(axis=1) == 1).mean() * 100, 2), \"% chance of one food trucks in 3 days\")"
   ]
  },
  {
   "cell_type": "markdown",
   "id": "0bc85c53",
   "metadata": {},
   "source": [
    "8. If 23 people are in the same room, what are the odds that two of them share a birthday? What if it's 20 people? 40?"
   ]
  },
  {
   "cell_type": "code",
   "execution_count": 21,
   "id": "6a723b07",
   "metadata": {},
   "outputs": [
    {
     "name": "stdout",
     "output_type": "stream",
     "text": [
      "50.74 % chance two out of 23 people share a birthday\n",
      "41.56 % chance two out of 20 people share a birthday\n",
      "89.04 % chance two out of 40 people share a birthday\n"
     ]
    }
   ],
   "source": [
    "n_rows = 10_000\n",
    "n_cols = 23 # to represent 23 individuals\n",
    "\n",
    "birthdays = np.random.choice(range(365), size=(n_rows, n_cols))\n",
    "birthdays = pd.DataFrame(birthdays)\n",
    "birthdays[\"n_unique\"] = birthdays.nunique(axis=1)\n",
    "\n",
    "#\n",
    "(birthdays.n_unique != 23).mean()\n",
    "print(round((birthdays.n_unique != 23).mean() * 100, 2), \"% chance two out of 23 people share a birthday\")\n",
    "\n",
    "n_cols = 20 # to represent 20 people\n",
    "birthdays = np.random.choice(range(365), size=(n_rows, n_cols))\n",
    "birthdays = pd.DataFrame(birthdays)\n",
    "birthdays[\"n_unique\"] = birthdays.nunique(axis=1)\n",
    "\n",
    "(birthdays.n_unique != 20).mean()\n",
    "print(round((birthdays.n_unique != 20).mean() * 100, 2), \"% chance two out of 20 people share a birthday\")\n",
    "\n",
    "n_cols = 40 # to represent 40 individuals\n",
    "\n",
    "birthdays = np.random.choice(range(365), size=(n_rows, n_cols))\n",
    "birthdays = pd.DataFrame(birthdays)\n",
    "birthdays[\"n_unique\"] = birthdays.nunique(axis=1)\n",
    "\n",
    "(birthdays.n_unique != 40).mean()\n",
    "print(round((birthdays.n_unique != 40).mean() * 100, 2), \"% chance two out of 40 people share a birthday\")"
   ]
  },
  {
   "cell_type": "code",
   "execution_count": 22,
   "id": "9050da6d-144f-42a9-b770-1d24e0c5ed63",
   "metadata": {},
   "outputs": [],
   "source": [
    "#What's the proportion of rows where we have multiple shared days?"
   ]
  },
  {
   "cell_type": "code",
   "execution_count": 24,
   "id": "5e5cdd50",
   "metadata": {},
   "outputs": [],
   "source": [
    "x = range(1, 100)\n",
    "\n",
    "\n",
    "N = [n* (n-1) / 2 for n in x]\n",
    "\n",
    "y = [1 - (364/365)**n for n in N]"
   ]
  },
  {
   "cell_type": "code",
   "execution_count": null,
   "id": "1e8053b3",
   "metadata": {},
   "outputs": [],
   "source": [
    "import matplotlib.pyplot as plt\n",
    "\n",
    "plt.title()"
   ]
  },
  {
   "cell_type": "markdown",
   "id": "40767be3",
   "metadata": {},
   "source": [
    "# Bonus Exercises\n",
    "\n",
    "- [Mage Duel](https://gist.github.com/ryanorsinger/2996446f02c1bf30fcb3f8fdb88bd51d)\n",
    "\n",
    "- [Chuck a Luck](https://gist.github.com/ryanorsinger/eac1d7b7e978f90b8390bdc056312123)"
   ]
  }
 ],
 "metadata": {
  "kernelspec": {
   "display_name": "Python 3 (ipykernel)",
   "language": "python",
   "name": "python3"
  },
  "language_info": {
   "codemirror_mode": {
    "name": "ipython",
    "version": 3
   },
   "file_extension": ".py",
   "mimetype": "text/x-python",
   "name": "python",
   "nbconvert_exporter": "python",
   "pygments_lexer": "ipython3",
   "version": "3.9.7"
  }
 },
 "nbformat": 4,
 "nbformat_minor": 5
}
