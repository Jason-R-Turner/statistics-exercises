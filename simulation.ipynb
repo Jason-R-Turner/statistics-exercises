{
 "cells": [
  {
   "cell_type": "markdown",
   "id": "f3eb64c4",
   "metadata": {},
   "source": [
    "# Simulation\n",
    "\n",
    "\n"
   ]
  },
  {
   "cell_type": "code",
   "execution_count": 2,
   "id": "0825b8e3",
   "metadata": {},
   "outputs": [],
   "source": [
    "%matplotlib inline\n",
    "import numpy as np\n",
    "import pandas as pd"
   ]
  },
  {
   "cell_type": "code",
   "execution_count": 46,
   "id": "e0282b03",
   "metadata": {},
   "outputs": [
    {
     "data": {
      "text/plain": [
       "array([2, 0, 3, 0, 0, 3, 2, 0, 3, 2, 3, 3, 2, 3, 2, 3, 1, 0, 3, 0, 0, 3,\n",
       "       3, 1, 3, 2, 3, 2, 2, 3, 1, 3, 3, 3, 3, 2, 3, 1, 0, 1, 1, 3, 3, 1,\n",
       "       3, 1, 3, 1, 1, 3, 2, 3, 2, 2, 2, 3, 0, 3, 2, 1, 3, 2, 1, 3, 3, 3,\n",
       "       0, 3, 3, 0, 3, 2, 2, 1, 3, 0, 0, 2, 2, 2, 3, 3, 2, 2, 2, 2, 3, 2,\n",
       "       2, 3, 3, 1, 0, 0, 2, 3, 0, 2, 3, 0])"
      ]
     },
     "execution_count": 46,
     "metadata": {},
     "output_type": "execute_result"
    }
   ],
   "source": [
    "np.random.choice(4, 100, replace=True, p=[.2, .1, .3, .4])"
   ]
  },
  {
   "cell_type": "code",
   "execution_count": 20,
   "id": "983c519b",
   "metadata": {},
   "outputs": [
    {
     "name": "stdout",
     "output_type": "stream",
     "text": [
      "Help on built-in function choice:\n",
      "\n",
      "choice(...) method of numpy.random.mtrand.RandomState instance\n",
      "    choice(a, size=None, replace=True, p=None)\n",
      "    \n",
      "    Generates a random sample from a given 1-D array\n",
      "    \n",
      "    .. versionadded:: 1.7.0\n",
      "    \n",
      "    .. note::\n",
      "        New code should use the ``choice`` method of a ``default_rng()``\n",
      "        instance instead; please see the :ref:`random-quick-start`.\n",
      "    \n",
      "    Parameters\n",
      "    ----------\n",
      "    a : 1-D array-like or int\n",
      "        If an ndarray, a random sample is generated from its elements.\n",
      "        If an int, the random sample is generated as if a were np.arange(a)\n",
      "    size : int or tuple of ints, optional\n",
      "        Output shape.  If the given shape is, e.g., ``(m, n, k)``, then\n",
      "        ``m * n * k`` samples are drawn.  Default is None, in which case a\n",
      "        single value is returned.\n",
      "    replace : boolean, optional\n",
      "        Whether the sample is with or without replacement\n",
      "    p : 1-D array-like, optional\n",
      "        The probabilities associated with each entry in a.\n",
      "        If not given the sample assumes a uniform distribution over all\n",
      "        entries in a.\n",
      "    \n",
      "    Returns\n",
      "    -------\n",
      "    samples : single item or ndarray\n",
      "        The generated random samples\n",
      "    \n",
      "    Raises\n",
      "    ------\n",
      "    ValueError\n",
      "        If a is an int and less than zero, if a or p are not 1-dimensional,\n",
      "        if a is an array-like of size 0, if p is not a vector of\n",
      "        probabilities, if a and p have different lengths, or if\n",
      "        replace=False and the sample size is greater than the population\n",
      "        size\n",
      "    \n",
      "    See Also\n",
      "    --------\n",
      "    randint, shuffle, permutation\n",
      "    Generator.choice: which should be used in new code\n",
      "    \n",
      "    Notes\n",
      "    -----\n",
      "    Sampling random rows from a 2-D array is not possible with this function,\n",
      "    but is possible with `Generator.choice` through its ``axis`` keyword.\n",
      "    \n",
      "    Examples\n",
      "    --------\n",
      "    Generate a uniform random sample from np.arange(5) of size 3:\n",
      "    \n",
      "    >>> np.random.choice(5, 3)\n",
      "    array([0, 3, 4]) # random\n",
      "    >>> #This is equivalent to np.random.randint(0,5,3)\n",
      "    \n",
      "    Generate a non-uniform random sample from np.arange(5) of size 3:\n",
      "    \n",
      "    >>> np.random.choice(5, 3, p=[0.1, 0, 0.3, 0.6, 0])\n",
      "    array([3, 3, 0]) # random\n",
      "    \n",
      "    Generate a uniform random sample from np.arange(5) of size 3 without\n",
      "    replacement:\n",
      "    \n",
      "    >>> np.random.choice(5, 3, replace=False)\n",
      "    array([3,1,0]) # random\n",
      "    >>> #This is equivalent to np.random.permutation(np.arange(5))[:3]\n",
      "    \n",
      "    Generate a non-uniform random sample from np.arange(5) of size\n",
      "    3 without replacement:\n",
      "    \n",
      "    >>> np.random.choice(5, 3, replace=False, p=[0.1, 0, 0.3, 0.6, 0])\n",
      "    array([2, 3, 0]) # random\n",
      "    \n",
      "    Any of the above can be repeated with an arbitrary array-like\n",
      "    instead of just integers. For instance:\n",
      "    \n",
      "    >>> aa_milne_arr = ['pooh', 'rabbit', 'piglet', 'Christopher']\n",
      "    >>> np.random.choice(aa_milne_arr, 5, p=[0.5, 0.1, 0.1, 0.3])\n",
      "    array(['pooh', 'pooh', 'pooh', 'Christopher', 'piglet'], # random\n",
      "          dtype='<U11')\n",
      "\n"
     ]
    }
   ],
   "source": [
    "help(np.random.choice)"
   ]
  },
  {
   "cell_type": "markdown",
   "id": "7ce248ea",
   "metadata": {},
   "source": [
    "1. How likely is it that you roll doubles when rolling two dice?"
   ]
  },
  {
   "cell_type": "code",
   "execution_count": 107,
   "id": "464401f5",
   "metadata": {},
   "outputs": [
    {
     "data": {
      "text/plain": [
       "array([[15, 20],\n",
       "       [ 9, 13],\n",
       "       [10, 15],\n",
       "       ...,\n",
       "       [ 4,  1],\n",
       "       [16, 20],\n",
       "       [ 3, 16]])"
      ]
     },
     "execution_count": 107,
     "metadata": {},
     "output_type": "execute_result"
    }
   ],
   "source": [
    "n_trials = nrows = 10000\n",
    "n_dice = ncols = 2\n",
    "\n",
    "rolls = np.random.choice([1, 2, 3, 4, 5, 6, 7, 8, 9, 10, 11, 12, 13, 14, 15, 16, 17, 18, 19, 20], n_trials * n_dice).reshape(nrows, ncols)\n",
    "rolls\n"
   ]
  },
  {
   "cell_type": "code",
   "execution_count": 108,
   "id": "a66267c9",
   "metadata": {},
   "outputs": [
    {
     "name": "stdout",
     "output_type": "stream",
     "text": [
      "*** Find rows wih same values in a matrix or 2D Numpy array***\n"
     ]
    },
    {
     "data": {
      "text/plain": [
       "530"
      ]
     },
     "execution_count": 108,
     "metadata": {},
     "output_type": "execute_result"
    }
   ],
   "source": [
    "def doubles():\n",
    "    print('*** Find rows wih same values in a matrix or 2D Numpy array***')\n",
    "    # Check rows in which all values are equal\n",
    "    number_of_doubles = 0\n",
    "    for i in range(rolls.shape[0]):\n",
    "        if np.all(rolls[i]==rolls[i][0]):\n",
    "            number_of_doubles = number_of_doubles + 1\n",
    "    return number_of_doubles\n",
    "doubles()"
   ]
  },
  {
   "cell_type": "code",
   "execution_count": 145,
   "id": "f61fe4f0",
   "metadata": {},
   "outputs": [
    {
     "name": "stdout",
     "output_type": "stream",
     "text": [
      "*** Find rows wih same values in a matrix or 2D Numpy array***\n",
      "5.3 % chance of rolling doubles\n"
     ]
    }
   ],
   "source": [
    "chance_of_doubles = doubles()/rolls.shape[0]\n",
    "chance_of_doubles\n",
    "print(chance_of_doubles * 100, \"% chance of rolling doubles\")"
   ]
  },
  {
   "cell_type": "markdown",
   "id": "ce694a9d",
   "metadata": {},
   "source": [
    "2. If you flip 8 coins, what is the probability of getting exactly 3 heads? What is the probability of getting more than 3 heads?"
   ]
  },
  {
   "cell_type": "code",
   "execution_count": 150,
   "id": "2c45dff6",
   "metadata": {},
   "outputs": [
    {
     "data": {
      "text/plain": [
       "array([[1, 0, 1, ..., 0, 1, 0],\n",
       "       [1, 0, 0, ..., 1, 0, 0],\n",
       "       [1, 0, 1, ..., 0, 1, 1],\n",
       "       ...,\n",
       "       [0, 0, 0, ..., 1, 1, 0],\n",
       "       [1, 1, 1, ..., 0, 0, 1],\n",
       "       [0, 1, 0, ..., 0, 1, 0]])"
      ]
     },
     "execution_count": 150,
     "metadata": {},
     "output_type": "execute_result"
    }
   ],
   "source": [
    "n_trials = nrows = 100000\n",
    "n_dice = ncols = 8\n",
    "flips = np.random.choice([0, 1], n_trials * n_dice).reshape(nrows, ncols)\n",
    "flips"
   ]
  },
  {
   "cell_type": "code",
   "execution_count": 151,
   "id": "1ed5b728",
   "metadata": {},
   "outputs": [
    {
     "data": {
      "text/plain": [
       "21663"
      ]
     },
     "execution_count": 151,
     "metadata": {},
     "output_type": "execute_result"
    }
   ],
   "source": [
    "def exactly_three_heads():\n",
    "    # Check rows in which there are exactly 3 heads\n",
    "    three_heads = 0\n",
    "    for i in range(flips.shape[0]):\n",
    "        if np.all(np.sum(flips[i]) == 3):\n",
    "            three_heads = three_heads + 1\n",
    "    return three_heads\n",
    "\n",
    "exactly_three_heads()"
   ]
  },
  {
   "cell_type": "code",
   "execution_count": 155,
   "id": "c39a918e",
   "metadata": {},
   "outputs": [
    {
     "name": "stdout",
     "output_type": "stream",
     "text": [
      "21.66 % chance of getting exactly 3 heads\n"
     ]
    }
   ],
   "source": [
    "chance_of_exactly_3_heads = (exactly_three_heads()/flips.shape[0])\n",
    "chance_of_exactly_3_heads\n",
    "print(round((chance_of_exactly_3_heads * 100), 2), \"% chance of getting exactly 3 heads\")"
   ]
  },
  {
   "cell_type": "code",
   "execution_count": null,
   "id": "61d21e14",
   "metadata": {},
   "outputs": [],
   "source": []
  },
  {
   "cell_type": "markdown",
   "id": "ce09199c",
   "metadata": {},
   "source": [
    "3.  There are approximitely 3 web development cohorts for every 1 data science cohort at Codeup. Assuming that Codeup randomly selects an alumni to put on a billboard, what are the odds that the two billboards I drive past both have data science students on them?"
   ]
  },
  {
   "cell_type": "code",
   "execution_count": null,
   "id": "3c45cec0",
   "metadata": {},
   "outputs": [],
   "source": []
  },
  {
   "cell_type": "markdown",
   "id": "c6958a9c",
   "metadata": {},
   "source": [
    "4.  Codeup students buy, on average, 3 poptart packages with a standard deviation of 1.5 a day from the snack vending machine. If on monday the machine is restocked with 17 poptart packages, how likely is it that I will be able to buy some poptarts on Friday afternoon? (Remember, if you have mean and standard deviation, use the np.random.normal)"
   ]
  },
  {
   "cell_type": "code",
   "execution_count": null,
   "id": "266ad863",
   "metadata": {},
   "outputs": [],
   "source": []
  },
  {
   "cell_type": "markdown",
   "id": "c0951d07",
   "metadata": {},
   "source": [
    "5. Compare Heights\n",
    "- Men have an average height of 178 cm and standard deviation of 8cm.\n",
    "- Women have a mean of 170, sd = 6cm.\n",
    "- Since you have means and standard deviations, you can use np.random.normal to generate observations.\n",
    "- If a man and woman are chosen at random, what is the likelihood the woman is taller than the man?"
   ]
  },
  {
   "cell_type": "code",
   "execution_count": null,
   "id": "502c4642",
   "metadata": {},
   "outputs": [],
   "source": []
  },
  {
   "cell_type": "markdown",
   "id": "3f480458",
   "metadata": {},
   "source": [
    "6. a. When installing anaconda on a student's computer, there's a 1 in 250 chance that the download is corrupted and the installation fails. What are the odds that after having 50 students download anaconda, no one has an installation issue? 100 students?"
   ]
  },
  {
   "cell_type": "code",
   "execution_count": null,
   "id": "53909a19",
   "metadata": {},
   "outputs": [],
   "source": []
  },
  {
   "cell_type": "markdown",
   "id": "016a0f6b",
   "metadata": {},
   "source": [
    "6. b. What is the probability that we observe an installation issue within the first 150 students that download anaconda?"
   ]
  },
  {
   "cell_type": "code",
   "execution_count": null,
   "id": "c3f19c38",
   "metadata": {},
   "outputs": [],
   "source": []
  },
  {
   "cell_type": "markdown",
   "id": "404fcea7",
   "metadata": {},
   "source": [
    "6. c. How likely is it that 450 students all download anaconda without an issue?"
   ]
  },
  {
   "cell_type": "code",
   "execution_count": null,
   "id": "e6ce5db7",
   "metadata": {},
   "outputs": [],
   "source": []
  },
  {
   "cell_type": "markdown",
   "id": "218786b0",
   "metadata": {},
   "source": [
    "7. a. There's a 70% chance on any given day that there will be at least one food truck at Travis Park. However, you haven't seen a food truck there in 3 days. How unlikely is this?"
   ]
  },
  {
   "cell_type": "code",
   "execution_count": null,
   "id": "2bd92ff0",
   "metadata": {},
   "outputs": [],
   "source": []
  },
  {
   "cell_type": "markdown",
   "id": "629ad656",
   "metadata": {},
   "source": [
    "7. b. How likely is it that a food truck will show up sometime this week?"
   ]
  },
  {
   "cell_type": "code",
   "execution_count": null,
   "id": "b4abbc52",
   "metadata": {},
   "outputs": [],
   "source": []
  },
  {
   "cell_type": "markdown",
   "id": "0bc85c53",
   "metadata": {},
   "source": [
    "8. If 23 people are in the same room, what are the odds that two of them share a birthday? What if it's 20 people? 40?"
   ]
  },
  {
   "cell_type": "code",
   "execution_count": null,
   "id": "6a723b07",
   "metadata": {},
   "outputs": [],
   "source": []
  },
  {
   "cell_type": "markdown",
   "id": "40767be3",
   "metadata": {},
   "source": [
    "# Bonus Exercises\n",
    "\n",
    "- [Mage Duel](https://gist.github.com/ryanorsinger/2996446f02c1bf30fcb3f8fdb88bd51d)\n",
    "\n",
    "- [Chuck a Luck](https://gist.github.com/ryanorsinger/eac1d7b7e978f90b8390bdc056312123)"
   ]
  }
 ],
 "metadata": {
  "kernelspec": {
   "display_name": "Python 3 (ipykernel)",
   "language": "python",
   "name": "python3"
  },
  "language_info": {
   "codemirror_mode": {
    "name": "ipython",
    "version": 3
   },
   "file_extension": ".py",
   "mimetype": "text/x-python",
   "name": "python",
   "nbconvert_exporter": "python",
   "pygments_lexer": "ipython3",
   "version": "3.9.7"
  }
 },
 "nbformat": 4,
 "nbformat_minor": 5
}
